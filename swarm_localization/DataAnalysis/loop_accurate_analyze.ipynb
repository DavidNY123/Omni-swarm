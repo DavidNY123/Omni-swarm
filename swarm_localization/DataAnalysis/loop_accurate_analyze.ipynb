{
 "cells": [
  {
   "cell_type": "code",
   "execution_count": null,
   "metadata": {},
   "outputs": [],
   "source": [
    "%matplotlib inline\n",
    "#%matplotlib qt\n",
    "%config InlineBackend.figure_format = 'retina'\n",
    "%load_ext autoreload\n",
    "%autoreload 2\n",
    "import matplotlib.pyplot as plt\n",
    "import sys\n",
    "sys.path.append(\"../scripts\")\n",
    "\n",
    "from local_plot import *\n",
    "#plt.tight_layout(pad=1.0, w_pad=0.2, h_pad=1.0)\n",
    "plt.tight_layout(pad=0.4, w_pad=0.5, h_pad=1.0)\n",
    "plt.rc(\"figure\", figsize=(20,15))\n"
   ]
  },
  {
   "cell_type": "code",
   "execution_count": null,
   "metadata": {},
   "outputs": [],
   "source": [
    "nodes = [1, 4]\n",
    "main_id = 1\n",
    "P_align_pos_1 = np.array([-100.55, 141.02, 117.83]) # Position of putting right front gear on center\n",
    "P_align_pos_4 = np.array([-83.22, 144.58, 110.2]) # Position of putting right front gear on center\n",
    "P_align_corner = np.array([98.92,-117.94,-71]) + np.array([10, 10, 0]) - np.array([60, 0, 0])\n",
    "\n",
    "P_vicon_in_imu ={\n",
    "    1: (P_align_pos_1+P_align_corner)/1000,\n",
    "    4: ( P_align_pos_4+P_align_corner)/1000\n",
    "}  \n",
    "\n",
    "poses, poses_fused, poses_vo, poses_path, loops, detections, distances,t0 = bag_read(f\"/home/xuhao/bags/swarm_raw_parallel2_2021-10-18_17-09/outputs/fuse_all/swarm1/swarm_local_pc.bag\", nodes, True, P_vicon_in_imu=P_vicon_in_imu)"
   ]
  },
  {
   "cell_type": "code",
   "execution_count": null,
   "metadata": {},
   "outputs": [],
   "source": [
    "plt.close('all')\n",
    "plot_fused(poses, poses_fused, poses_vo, poses_path, loops, detections, nodes, use_offline=False, figsize=(20,15))\n",
    "#plot_fused_err(poses, poses_fused, poses_vo, poses_path, nodes ,show=True,main_id=main_id)\n",
    "#plot_relative_pose_err(poses, poses_fused, poses_vo, 1, [4])\n",
    "plt.show()"
   ]
  },
  {
   "cell_type": "code",
   "execution_count": null,
   "metadata": {},
   "outputs": [],
   "source": [
    "plt.close(\"all\")\n",
    "#loops_error = plot_loops_error(poses, loops, 1.0, \"/home/xuhao/bags/swarm_raw_parallel2_2021-10-18_17-09/loop_only_backend/swarm1/pcm_good.txt\")\n",
    "loops_error = plot_loops_error(poses, loops, 1.0)\n",
    "#pcm_errors = debugging_pcm(\"/home/xuhao/bags/swarm_raw_parallel2_2021-10-18_17-09/loop_only/swarm1/\", loops_error, 2.204)"
   ]
  },
  {
   "cell_type": "code",
   "execution_count": null,
   "metadata": {},
   "outputs": [],
   "source": [
    "plt.close(\"all\") \n",
    "distance_calib = {\n",
    "    1: {}\n",
    "}\n",
    "plot_distance_err(poses, poses_fused, distances, main_id, nodes, distance_calib[main_id], is_show=True)"
   ]
  },
  {
   "cell_type": "code",
   "execution_count": null,
   "metadata": {},
   "outputs": [],
   "source": [
    "plt.close(\"all\")\n",
    "#plot_detections_error(poses, poses_vo, detections, main_id, True)\n",
    "plt.rc(\"figure\", figsize=(20,15))\n",
    "loops_error =  plot_loops_error(poses, detections, 1.0)"
   ]
  },
  {
   "cell_type": "code",
   "execution_count": null,
   "metadata": {},
   "outputs": [],
   "source": [
    "poses_fused[1][\"pos\"]"
   ]
  },
  {
   "cell_type": "code",
   "execution_count": null,
   "metadata": {},
   "outputs": [],
   "source": []
  }
 ],
 "metadata": {
  "kernelspec": {
   "display_name": "Python 3",
   "language": "python",
   "name": "python3"
  },
  "language_info": {
   "codemirror_mode": {
    "name": "ipython",
    "version": 3
   },
   "file_extension": ".py",
   "mimetype": "text/x-python",
   "name": "python",
   "nbconvert_exporter": "python",
   "pygments_lexer": "ipython3",
   "version": "3.8.5"
  }
 },
 "nbformat": 4,
 "nbformat_minor": 4
}
