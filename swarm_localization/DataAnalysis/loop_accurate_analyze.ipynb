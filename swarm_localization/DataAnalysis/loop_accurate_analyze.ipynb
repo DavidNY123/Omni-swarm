{
 "cells": [
  {
   "cell_type": "code",
   "execution_count": 1,
   "metadata": {},
   "outputs": [
    {
     "name": "stderr",
     "output_type": "stream",
     "text": [
      "Failed to load Python extension for LZ4 support. LZ4 compression will not be available.\n"
     ]
    }
   ],
   "source": [
    "%matplotlib widget\n",
    "%config InlineBackend.figure_format = 'retina'\n",
    "import sys\n",
    "sys.path.append(\"../scripts\")\n",
    "%load_ext autoreload\n",
    "%autoreload 2\n",
    "from local_plot import *\n",
    "\n"
   ]
  },
  {
   "cell_type": "code",
   "execution_count": 2,
   "metadata": {},
   "outputs": [
    {
     "name": "stdout",
     "output_type": "stream",
     "text": [
      "Read poses from topic /SwarmNode1/pose\n",
      "Trajectory total length  54.965325354194576\n",
      "Read poses from topic /swarm_drones/swarm_drone_fused_pc\n",
      "Read poses from topic /swarm_drones/swarm_frame_predict\n",
      "Read poses from topic /SwarmNode2/pose\n",
      "Trajectory total length  51.928878073791715\n",
      "Read poses from topic /swarm_drones/swarm_drone_fused_pc\n",
      "Read poses from topic /swarm_drones/swarm_frame_predict\n",
      "Yaw Offset,  8.201367606983254 Fused Offset [ 1.05624985 -0.57942252  0.16667987]\n"
     ]
    },
    {
     "data": {
      "application/vnd.jupyter.widget-view+json": {
       "model_id": "8d548216d64b47ff874539f1e30d5d54",
       "version_major": 2,
       "version_minor": 0
      },
      "text/plain": [
       "Canvas(toolbar=Toolbar(toolitems=[('Home', 'Reset original view', 'home', 'home'), ('Back', 'Back to previous …"
      ]
     },
     "metadata": {},
     "output_type": "display_data"
    },
    {
     "data": {
      "application/vnd.jupyter.widget-view+json": {
       "model_id": "6e9a2624a2274103a237ed1c43560a5b",
       "version_major": 2,
       "version_minor": 0
      },
      "text/plain": [
       "Canvas(toolbar=Toolbar(toolitems=[('Home', 'Reset original view', 'home', 'home'), ('Back', 'Back to previous …"
      ]
     },
     "metadata": {},
     "output_type": "display_data"
    },
    {
     "data": {
      "application/vnd.jupyter.widget-view+json": {
       "model_id": "7b6be14dd9234ec9bc72233d612a0231",
       "version_major": 2,
       "version_minor": 0
      },
      "text/plain": [
       "Canvas(toolbar=Toolbar(toolitems=[('Home', 'Reset original view', 'home', 'home'), ('Back', 'Back to previous …"
      ]
     },
     "metadata": {},
     "output_type": "display_data"
    },
    {
     "data": {
      "application/vnd.jupyter.widget-view+json": {
       "model_id": "902f8ecee154433ba7f3f0345c8133ad",
       "version_major": 2,
       "version_minor": 0
      },
      "text/plain": [
       "Canvas(toolbar=Toolbar(toolitems=[('Home', 'Reset original view', 'home', 'home'), ('Back', 'Back to previous …"
      ]
     },
     "metadata": {},
     "output_type": "display_data"
    },
    {
     "data": {
      "application/vnd.jupyter.widget-view+json": {
       "model_id": "bbdf527071764f1a95ef9fd78e5826c4",
       "version_major": 2,
       "version_minor": 0
      },
      "text/plain": [
       "Canvas(toolbar=Toolbar(toolitems=[('Home', 'Reset original view', 'home', 'home'), ('Back', 'Back to previous …"
      ]
     },
     "metadata": {},
     "output_type": "display_data"
    },
    {
     "data": {
      "application/vnd.jupyter.widget-view+json": {
       "model_id": "2cc7e8f7c0dd4e25844db026ebe69e49",
       "version_major": 2,
       "version_minor": 0
      },
      "text/plain": [
       "Canvas(toolbar=Toolbar(toolitems=[('Home', 'Reset original view', 'home', 'home'), ('Back', 'Back to previous …"
      ]
     },
     "metadata": {},
     "output_type": "display_data"
    },
    {
     "name": "stdout",
     "output_type": "stream",
     "text": [
      "RMSE Fused Online 1 is 0.037,0.069,0.033\n",
      "RMSE Fused Offline Path 1 is 0.058,0.096,0.028\n",
      "RMSE VO 1 is 0.199,0.123,0.028\n"
     ]
    },
    {
     "data": {
      "application/vnd.jupyter.widget-view+json": {
       "model_id": "2b6d54715d1e456b8b1b7a04d35f205f",
       "version_major": 2,
       "version_minor": 0
      },
      "text/plain": [
       "Canvas(toolbar=Toolbar(toolitems=[('Home', 'Reset original view', 'home', 'home'), ('Back', 'Back to previous …"
      ]
     },
     "metadata": {},
     "output_type": "display_data"
    },
    {
     "name": "stdout",
     "output_type": "stream",
     "text": [
      "RMSE Fused Online 2 is 0.115,0.115,0.064\n",
      "RMSE Fused Offline Path 2 is 0.063,0.070,0.025\n",
      "RMSE VO 2 is 0.224,0.197,0.074\n"
     ]
    },
    {
     "data": {
      "application/vnd.jupyter.widget-view+json": {
       "model_id": "deff9595430e4ef5a12b42ce2ef437ca",
       "version_major": 2,
       "version_minor": 0
      },
      "text/plain": [
       "Canvas(toolbar=Toolbar(toolitems=[('Home', 'Reset original view', 'home', 'home'), ('Back', 'Back to previous …"
      ]
     },
     "metadata": {},
     "output_type": "display_data"
    },
    {
     "data": {
      "application/vnd.jupyter.widget-view+json": {
       "model_id": "f1efbc311ddd404ab0cc0a8ee23da8ad",
       "version_major": 2,
       "version_minor": 0
      },
      "text/plain": [
       "Canvas(toolbar=Toolbar(toolitems=[('Home', 'Reset original view', 'home', 'home'), ('Back', 'Back to previous …"
      ]
     },
     "metadata": {},
     "output_type": "display_data"
    },
    {
     "name": "stdout",
     "output_type": "stream",
     "text": [
      "RMSE 1->2 0.110,0.080,0.063\n"
     ]
    },
    {
     "data": {
      "application/vnd.jupyter.widget-view+json": {
       "model_id": "4857068bcbfd4039881c608b694da615",
       "version_major": 2,
       "version_minor": 0
      },
      "text/plain": [
       "Canvas(toolbar=Toolbar(toolitems=[('Home', 'Reset original view', 'home', 'home'), ('Back', 'Back to previous …"
      ]
     },
     "metadata": {},
     "output_type": "display_data"
    }
   ],
   "source": [
    "nodes = [1, 2]\n",
    "#poses, poses_fused, poses_vo, poses_path, loops, detections = bag_read(\"data/swarm_local_2020-12-10-19-39-05.bag\", nodes, False)\n",
    "#poses, poses_fused, poses_vo, poses_path, loops, detections = bag_read(\"data/swarm_local_2020-12-10-20-33-29.bag\", nodes, False)\n",
    "poses, poses_fused, poses_vo, poses_path, loops, detections = bag_read(\"/home/xuhao/output/output1/swarm_local_pc.bag\", nodes, True)\n",
    "\n",
    "plt.close('all')\n",
    "\n",
    "plot_fused(poses, poses_fused, poses_vo, poses_path, loops, detections, nodes)\n",
    "plot_fused_err(poses, poses_fused, poses_vo, poses_path, nodes, 1)\n",
    "plt.show()"
   ]
  },
  {
   "cell_type": "code",
   "execution_count": 15,
   "metadata": {},
   "outputs": [
    {
     "name": "stdout",
     "output_type": "stream",
     "text": [
      "Total detection 190\n"
     ]
    },
    {
     "data": {
      "application/vnd.jupyter.widget-view+json": {
       "model_id": "8cfb753b04a3482eb652b8dde9aaf955",
       "version_major": 2,
       "version_minor": 0
      },
      "text/plain": [
       "Canvas(toolbar=Toolbar(toolitems=[('Home', 'Reset original view', 'home', 'home'), ('Back', 'Back to previous …"
      ]
     },
     "metadata": {},
     "output_type": "display_data"
    },
    {
     "data": {
      "application/vnd.jupyter.widget-view+json": {
       "model_id": "79f65b2bf1eb4dff8bb1820d8403eee3",
       "version_major": 2,
       "version_minor": 0
      },
      "text/plain": [
       "Canvas(toolbar=Toolbar(toolitems=[('Home', 'Reset original view', 'home', 'home'), ('Back', 'Back to previous …"
      ]
     },
     "metadata": {},
     "output_type": "display_data"
    },
    {
     "data": {
      "application/vnd.jupyter.widget-view+json": {
       "model_id": "99ab7b5494f9481bbe818e44c833ed18",
       "version_major": 2,
       "version_minor": 0
      },
      "text/plain": [
       "Canvas(toolbar=Toolbar(toolitems=[('Home', 'Reset original view', 'home', 'home'), ('Back', 'Back to previous …"
      ]
     },
     "metadata": {},
     "output_type": "display_data"
    },
    {
     "data": {
      "application/vnd.jupyter.widget-view+json": {
       "model_id": "c6d259c0d1dd4d33ac8c214a71aa8990",
       "version_major": 2,
       "version_minor": 0
      },
      "text/plain": [
       "Canvas(toolbar=Toolbar(toolitems=[('Home', 'Reset original view', 'home', 'home'), ('Back', 'Back to previous …"
      ]
     },
     "metadata": {},
     "output_type": "display_data"
    },
    {
     "name": "stdout",
     "output_type": "stream",
     "text": [
      "Mean [-0.09730499  0.40960978  0.19638753]\n",
      "Pos cov 0.18842055111908415 0.31077118909313173 0.09211049611566474\n"
     ]
    }
   ],
   "source": [
    "#plot_detections_error(poses, poses_vo, detections, nodes)\n",
    "plot_detections_error(poses_path, poses_vo, detections, nodes)\n"
   ]
  },
  {
   "cell_type": "code",
   "execution_count": 64,
   "metadata": {},
   "outputs": [
    {
     "name": "stdout",
     "output_type": "stream",
     "text": [
      "Total loops 31\n",
      "Error 1.7171674150119003 {'ts_a': 35.99909734725952, 'ts_b': -6.423054218292236, 'id_a': 2, 'id_b': 1, 'dpos': array([ 0.6549573 , -0.32219834, -0.84156955]), 'dyaw': 0.10890486018058813}\n",
      "Error 1.0749333882347503 {'ts_a': 35.99909734725952, 'ts_b': 37.176913261413574, 'id_a': 2, 'id_b': 1, 'dpos': array([ 0.48215014, -1.05082087,  0.05993837]), 'dyaw': 0.08588771208972439}\n",
      "Error 1.2091334295442615 {'ts_a': 33.899126291275024, 'ts_b': 48.527016162872314, 'id_a': 2, 'id_b': 1, 'dpos': array([ 0.16136542, -0.09693802, -0.09142641]), 'dyaw': 0.2582860033371678}\n",
      "Error 1.347134059278504 {'ts_a': 35.99909734725952, 'ts_b': 52.57705998420715, 'id_a': 2, 'id_b': 1, 'dpos': array([0., 0., 0.]), 'dyaw': 0.0}\n",
      "Error 1.1754276290156809 {'ts_a': 57.19907522201538, 'ts_b': -6.423054218292236, 'id_a': 2, 'id_b': 1, 'dpos': array([ 0.03212674,  0.46338129, -0.52311992]), 'dyaw': -0.3758174833017885}\n",
      "Error 1.7055881118102014 {'ts_a': 35.99909734725952, 'ts_b': 77.22708702087402, 'id_a': 2, 'id_b': 1, 'dpos': array([ 0.8390235 , -1.06633876,  0.16217038]), 'dyaw': 0.27221635314961895}\n",
      "Error 2.1134699694269883 {'ts_a': 27.74909734725952, 'ts_b': 79.27703022956848, 'id_a': 2, 'id_b': 1, 'dpos': array([-0.8773159 ,  3.21092236, -0.85760556]), 'dyaw': -0.015284504626333642}\n"
     ]
    },
    {
     "data": {
      "application/vnd.jupyter.widget-view+json": {
       "model_id": "8d30339c16ab4dc4bb932e9bdc46af0d",
       "version_major": 2,
       "version_minor": 0
      },
      "text/plain": [
       "Canvas(toolbar=Toolbar(toolitems=[('Home', 'Reset original view', 'home', 'home'), ('Back', 'Back to previous …"
      ]
     },
     "metadata": {},
     "output_type": "display_data"
    },
    {
     "data": {
      "application/vnd.jupyter.widget-view+json": {
       "model_id": "76a4615020c948989d5eedf4e517a535",
       "version_major": 2,
       "version_minor": 0
      },
      "text/plain": [
       "Canvas(toolbar=Toolbar(toolitems=[('Home', 'Reset original view', 'home', 'home'), ('Back', 'Back to previous …"
      ]
     },
     "metadata": {},
     "output_type": "display_data"
    },
    {
     "name": "stdout",
     "output_type": "stream",
     "text": [
      "Pos cov 0.15215130839098764 0.47454661846286567 0.019615361815550347\n",
      "Yaw cov 0.3576079675301561\n"
     ]
    }
   ],
   "source": [
    "plot_loops_error(poses, loops, nodes)"
   ]
  },
  {
   "cell_type": "code",
   "execution_count": null,
   "metadata": {},
   "outputs": [],
   "source": []
  }
 ],
 "metadata": {
  "kernelspec": {
   "display_name": "Python 3",
   "language": "python",
   "name": "python3"
  },
  "language_info": {
   "codemirror_mode": {
    "name": "ipython",
    "version": 3
   },
   "file_extension": ".py",
   "mimetype": "text/x-python",
   "name": "python",
   "nbconvert_exporter": "python",
   "pygments_lexer": "ipython3",
   "version": "3.8.5"
  }
 },
 "nbformat": 4,
 "nbformat_minor": 4
}
