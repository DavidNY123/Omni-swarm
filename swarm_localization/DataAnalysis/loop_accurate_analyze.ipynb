{
 "cells": [
  {
   "cell_type": "code",
   "execution_count": 29,
   "metadata": {},
   "outputs": [
    {
     "name": "stdout",
     "output_type": "stream",
     "text": [
      "The autoreload extension is already loaded. To reload it, use:\n",
      "  %reload_ext autoreload\n"
     ]
    }
   ],
   "source": [
    "%matplotlib widget\n",
    "%config InlineBackend.figure_format = 'retina'\n",
    "import sys\n",
    "sys.path.append(\"../scripts\")\n",
    "%load_ext autoreload\n",
    "%autoreload 2\n",
    "from local_plot import *\n",
    "\n"
   ]
  },
  {
   "cell_type": "code",
   "execution_count": 32,
   "metadata": {},
   "outputs": [
    {
     "name": "stdout",
     "output_type": "stream",
     "text": [
      "Read poses from topic /SwarmNode1/pose\n",
      "Trajectory total length  67.6053491007969\n",
      "Read poses from topic /swarm_drones/swarm_drone_fused_pc\n",
      "Read poses from topic /swarm_drones/swarm_frame_predict\n",
      "Read poses from topic /SwarmNode2/pose\n",
      "Trajectory total length  72.45286575430278\n",
      "Read poses from topic /swarm_drones/swarm_drone_fused_pc\n",
      "Read poses from topic /swarm_drones/swarm_frame_predict\n",
      "Yaw Offset,  1.390079447438446 Fused Offset [1.05204271 0.361856   0.12793497]\n"
     ]
    },
    {
     "data": {
      "application/vnd.jupyter.widget-view+json": {
       "model_id": "cb8be9e8ee354d339bc64ac38aa87da9",
       "version_major": 2,
       "version_minor": 0
      },
      "text/plain": [
       "Canvas(toolbar=Toolbar(toolitems=[('Home', 'Reset original view', 'home', 'home'), ('Back', 'Back to previous …"
      ]
     },
     "metadata": {},
     "output_type": "display_data"
    },
    {
     "data": {
      "application/vnd.jupyter.widget-view+json": {
       "model_id": "3e313e8e73db4f669084f511a00ec816",
       "version_major": 2,
       "version_minor": 0
      },
      "text/plain": [
       "Canvas(toolbar=Toolbar(toolitems=[('Home', 'Reset original view', 'home', 'home'), ('Back', 'Back to previous …"
      ]
     },
     "metadata": {},
     "output_type": "display_data"
    },
    {
     "data": {
      "application/vnd.jupyter.widget-view+json": {
       "model_id": "470bba69cf464b5a92efb4b00100fe49",
       "version_major": 2,
       "version_minor": 0
      },
      "text/plain": [
       "Canvas(toolbar=Toolbar(toolitems=[('Home', 'Reset original view', 'home', 'home'), ('Back', 'Back to previous …"
      ]
     },
     "metadata": {},
     "output_type": "display_data"
    },
    {
     "data": {
      "application/vnd.jupyter.widget-view+json": {
       "model_id": "4a76c2b1ae7b436eb3cf53c3962595c0",
       "version_major": 2,
       "version_minor": 0
      },
      "text/plain": [
       "Canvas(toolbar=Toolbar(toolitems=[('Home', 'Reset original view', 'home', 'home'), ('Back', 'Back to previous …"
      ]
     },
     "metadata": {},
     "output_type": "display_data"
    },
    {
     "data": {
      "application/vnd.jupyter.widget-view+json": {
       "model_id": "e32720c2b87d40928fce088c5f6ddff4",
       "version_major": 2,
       "version_minor": 0
      },
      "text/plain": [
       "Canvas(toolbar=Toolbar(toolitems=[('Home', 'Reset original view', 'home', 'home'), ('Back', 'Back to previous …"
      ]
     },
     "metadata": {},
     "output_type": "display_data"
    },
    {
     "data": {
      "application/vnd.jupyter.widget-view+json": {
       "model_id": "c8f024028fdb498d936d8df272ed976d",
       "version_major": 2,
       "version_minor": 0
      },
      "text/plain": [
       "Canvas(toolbar=Toolbar(toolitems=[('Home', 'Reset original view', 'home', 'home'), ('Back', 'Back to previous …"
      ]
     },
     "metadata": {},
     "output_type": "display_data"
    },
    {
     "name": "stdout",
     "output_type": "stream",
     "text": [
      "RMSE Fused Online 1 is 0.148,0.219,0.072\n",
      "RMSE Fused Offline Path 1 is 0.124,0.124,0.037\n",
      "RMSE VO 1 is 0.167,0.216,0.057\n"
     ]
    },
    {
     "data": {
      "application/vnd.jupyter.widget-view+json": {
       "model_id": "8c0c0c09820b4db7bae9a3831b4acd0a",
       "version_major": 2,
       "version_minor": 0
      },
      "text/plain": [
       "Canvas(toolbar=Toolbar(toolitems=[('Home', 'Reset original view', 'home', 'home'), ('Back', 'Back to previous …"
      ]
     },
     "metadata": {},
     "output_type": "display_data"
    },
    {
     "name": "stdout",
     "output_type": "stream",
     "text": [
      "RMSE Fused Online 2 is 0.098,0.189,0.079\n",
      "RMSE Fused Offline Path 2 is 0.068,0.154,0.061\n",
      "RMSE VO 2 is 0.090,0.143,0.038\n"
     ]
    },
    {
     "data": {
      "application/vnd.jupyter.widget-view+json": {
       "model_id": "24320867cdf142a182aa6ab0d9b06928",
       "version_major": 2,
       "version_minor": 0
      },
      "text/plain": [
       "Canvas(toolbar=Toolbar(toolitems=[('Home', 'Reset original view', 'home', 'home'), ('Back', 'Back to previous …"
      ]
     },
     "metadata": {},
     "output_type": "display_data"
    },
    {
     "data": {
      "application/vnd.jupyter.widget-view+json": {
       "model_id": "35477973b2a04a2894285553fa50b30f",
       "version_major": 2,
       "version_minor": 0
      },
      "text/plain": [
       "Canvas(toolbar=Toolbar(toolitems=[('Home', 'Reset original view', 'home', 'home'), ('Back', 'Back to previous …"
      ]
     },
     "metadata": {},
     "output_type": "display_data"
    },
    {
     "name": "stdout",
     "output_type": "stream",
     "text": [
      "RMSE 1->2 0.163,0.110,0.056\n"
     ]
    },
    {
     "data": {
      "application/vnd.jupyter.widget-view+json": {
       "model_id": "b424580ef19f4b13a7484ce4a85bac92",
       "version_major": 2,
       "version_minor": 0
      },
      "text/plain": [
       "Canvas(toolbar=Toolbar(toolitems=[('Home', 'Reset original view', 'home', 'home'), ('Back', 'Back to previous …"
      ]
     },
     "metadata": {},
     "output_type": "display_data"
    }
   ],
   "source": [
    "nodes = [1, 2]\n",
    "#poses, poses_fused, poses_vo, poses_path, loops, detections = bag_read(\"data/swarm_local_2020-12-10-19-39-05.bag\", nodes, False)\n",
    "#poses, poses_fused, poses_vo, poses_path, loops, detections = bag_read(\"data/swarm_local_2020-12-10-20-33-29.bag\", nodes, False)\n",
    "poses, poses_fused, poses_vo, poses_path, loops, detections = bag_read(\"data/swarm_local_pc.bag\", nodes, True)\n",
    "\n",
    "plt.close('all')\n",
    "\n",
    "plot_fused(poses, poses_fused, poses_vo, poses_path, loops, detections, nodes)\n",
    "plot_fused_err(poses, poses_fused, poses_vo, poses_path, nodes, 1)\n",
    "plt.show()"
   ]
  },
  {
   "cell_type": "code",
   "execution_count": 14,
   "metadata": {},
   "outputs": [
    {
     "name": "stdout",
     "output_type": "stream",
     "text": [
      "Total detection 205\n"
     ]
    },
    {
     "data": {
      "application/vnd.jupyter.widget-view+json": {
       "model_id": "2a539b4b72564c57bb4cf13b342c47d8",
       "version_major": 2,
       "version_minor": 0
      },
      "text/plain": [
       "Canvas(toolbar=Toolbar(toolitems=[('Home', 'Reset original view', 'home', 'home'), ('Back', 'Back to previous …"
      ]
     },
     "metadata": {},
     "output_type": "display_data"
    },
    {
     "data": {
      "application/vnd.jupyter.widget-view+json": {
       "model_id": "cd9f4918014a49dc8e728deaea646466",
       "version_major": 2,
       "version_minor": 0
      },
      "text/plain": [
       "Canvas(toolbar=Toolbar(toolitems=[('Home', 'Reset original view', 'home', 'home'), ('Back', 'Back to previous …"
      ]
     },
     "metadata": {},
     "output_type": "display_data"
    },
    {
     "data": {
      "application/vnd.jupyter.widget-view+json": {
       "model_id": "2ef3bdb269814101bca03d40774dfbcd",
       "version_major": 2,
       "version_minor": 0
      },
      "text/plain": [
       "Canvas(toolbar=Toolbar(toolitems=[('Home', 'Reset original view', 'home', 'home'), ('Back', 'Back to previous …"
      ]
     },
     "metadata": {},
     "output_type": "display_data"
    },
    {
     "data": {
      "application/vnd.jupyter.widget-view+json": {
       "model_id": "dda8b7935987407a9082fc1cb71e458a",
       "version_major": 2,
       "version_minor": 0
      },
      "text/plain": [
       "Canvas(toolbar=Toolbar(toolitems=[('Home', 'Reset original view', 'home', 'home'), ('Back', 'Back to previous …"
      ]
     },
     "metadata": {},
     "output_type": "display_data"
    },
    {
     "name": "stdout",
     "output_type": "stream",
     "text": [
      "Mean [ 0.00891743 -0.00505255 -0.03123094]\n",
      "Pos cov 0.0010845532014913367 9.41262101062085e-05 0.000827224262556053\n"
     ]
    }
   ],
   "source": [
    "\n",
    "plot_detections_error(poses, poses_vo, detections, nodes)\n"
   ]
  },
  {
   "cell_type": "code",
   "execution_count": 21,
   "metadata": {},
   "outputs": [
    {
     "name": "stdout",
     "output_type": "stream",
     "text": [
      "Total loops 36\n",
      "Error 1.7287488564016495 {'ts_a': 38.574622631073, 'ts_b': -3.8475289344787598, 'id_a': 2, 'id_b': 1, 'dpos': array([ 0.6549573 , -0.32219834, -0.84156955]), 'dyaw': 0.10890486018058813}\n",
      "Error 1.0749333882347503 {'ts_a': 38.574622631073, 'ts_b': 39.75243854522705, 'id_a': 2, 'id_b': 1, 'dpos': array([ 0.48215014, -1.05082087,  0.05993837]), 'dyaw': 0.08588771208972439}\n",
      "Error 1.2091334295442615 {'ts_a': 36.4746515750885, 'ts_b': 51.10254144668579, 'id_a': 2, 'id_b': 1, 'dpos': array([ 0.16136542, -0.09693802, -0.09142641]), 'dyaw': 0.2582860033371678}\n",
      "Error 1.347134059278504 {'ts_a': 38.574622631073, 'ts_b': 55.15258526802063, 'id_a': 2, 'id_b': 1, 'dpos': array([0., 0., 0.]), 'dyaw': 0.0}\n",
      "Error 1.161069462348858 {'ts_a': 59.77460050582886, 'ts_b': -3.8475289344787598, 'id_a': 2, 'id_b': 1, 'dpos': array([ 0.03212674,  0.46338129, -0.52311992]), 'dyaw': -0.3758174833017885}\n",
      "Error 1.7055881118102014 {'ts_a': 38.574622631073, 'ts_b': 79.8026123046875, 'id_a': 2, 'id_b': 1, 'dpos': array([ 0.8390235 , -1.06633876,  0.16217038]), 'dyaw': 0.27221635314961895}\n",
      "Error 2.1134699694269883 {'ts_a': 30.324622631072998, 'ts_b': 81.85255551338196, 'id_a': 2, 'id_b': 1, 'dpos': array([-0.8773159 ,  3.21092236, -0.85760556]), 'dyaw': -0.015284504626333642}\n"
     ]
    },
    {
     "data": {
      "application/vnd.jupyter.widget-view+json": {
       "model_id": "7f52037dd35d46e58b13169f5f83aa77",
       "version_major": 2,
       "version_minor": 0
      },
      "text/plain": [
       "Canvas(toolbar=Toolbar(toolitems=[('Home', 'Reset original view', 'home', 'home'), ('Back', 'Back to previous …"
      ]
     },
     "metadata": {},
     "output_type": "display_data"
    },
    {
     "data": {
      "application/vnd.jupyter.widget-view+json": {
       "model_id": "0b974964383b43e08c32d38c076febbf",
       "version_major": 2,
       "version_minor": 0
      },
      "text/plain": [
       "Canvas(toolbar=Toolbar(toolitems=[('Home', 'Reset original view', 'home', 'home'), ('Back', 'Back to previous …"
      ]
     },
     "metadata": {},
     "output_type": "display_data"
    },
    {
     "name": "stdout",
     "output_type": "stream",
     "text": [
      "Pos cov 0.12809881184762834 0.40867289149552427 0.019938682742279158\n",
      "Yaw cov 0.3094353765940971\n"
     ]
    }
   ],
   "source": [
    "plot_loops_error(poses, loops, nodes)"
   ]
  },
  {
   "cell_type": "code",
   "execution_count": null,
   "metadata": {},
   "outputs": [],
   "source": []
  }
 ],
 "metadata": {
  "kernelspec": {
   "display_name": "Python 3",
   "language": "python",
   "name": "python3"
  },
  "language_info": {
   "codemirror_mode": {
    "name": "ipython",
    "version": 3
   },
   "file_extension": ".py",
   "mimetype": "text/x-python",
   "name": "python",
   "nbconvert_exporter": "python",
   "pygments_lexer": "ipython3",
   "version": "3.8.5"
  }
 },
 "nbformat": 4,
 "nbformat_minor": 4
}
