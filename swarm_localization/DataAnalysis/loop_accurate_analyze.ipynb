{
 "cells": [
  {
   "cell_type": "code",
   "execution_count": 6,
   "metadata": {},
   "outputs": [
    {
     "name": "stdout",
     "output_type": "stream",
     "text": [
      "The autoreload extension is already loaded. To reload it, use:\n",
      "  %reload_ext autoreload\n"
     ]
    }
   ],
   "source": [
    "%matplotlib widget\n",
    "%config InlineBackend.figure_format = 'retina'\n",
    "import sys\n",
    "sys.path.append(\"../scripts\")\n",
    "%load_ext autoreload\n",
    "%autoreload 2\n",
    "from local_plot import *\n",
    "\n"
   ]
  },
  {
   "cell_type": "code",
   "execution_count": 21,
   "metadata": {},
   "outputs": [
    {
     "name": "stdout",
     "output_type": "stream",
     "text": [
      "Read poses from topic /SwarmNode1/pose\n",
      "Trajectory total length  14.462950519117054\n",
      "Read poses from topic /swarm_drones/swarm_drone_fused_pc\n",
      "Read poses from topic /swarm_drones/swarm_frame_predict\n",
      "Read poses from topic /SwarmNode2/pose\n",
      "Trajectory total length  17.509403979085967\n",
      "Read poses from topic /swarm_drones/swarm_drone_fused_pc\n",
      "Read poses from topic /swarm_drones/swarm_frame_predict\n"
     ]
    },
    {
     "data": {
      "application/vnd.jupyter.widget-view+json": {
       "model_id": "213be2cf4d0a4b6188cbb8d9814ce519",
       "version_major": 2,
       "version_minor": 0
      },
      "text/plain": [
       "Canvas(toolbar=Toolbar(toolitems=[('Home', 'Reset original view', 'home', 'home'), ('Back', 'Back to previous …"
      ]
     },
     "metadata": {},
     "output_type": "display_data"
    },
    {
     "data": {
      "application/vnd.jupyter.widget-view+json": {
       "model_id": "6c0ddcddecd64af58db104a381db7086",
       "version_major": 2,
       "version_minor": 0
      },
      "text/plain": [
       "Canvas(toolbar=Toolbar(toolitems=[('Home', 'Reset original view', 'home', 'home'), ('Back', 'Back to previous …"
      ]
     },
     "metadata": {},
     "output_type": "display_data"
    },
    {
     "data": {
      "application/vnd.jupyter.widget-view+json": {
       "model_id": "9c371b6371bd470bb632f493c139ef2f",
       "version_major": 2,
       "version_minor": 0
      },
      "text/plain": [
       "Canvas(toolbar=Toolbar(toolitems=[('Home', 'Reset original view', 'home', 'home'), ('Back', 'Back to previous …"
      ]
     },
     "metadata": {},
     "output_type": "display_data"
    },
    {
     "data": {
      "application/vnd.jupyter.widget-view+json": {
       "model_id": "9ac94db06d30446bb37208570e89602c",
       "version_major": 2,
       "version_minor": 0
      },
      "text/plain": [
       "Canvas(toolbar=Toolbar(toolitems=[('Home', 'Reset original view', 'home', 'home'), ('Back', 'Back to previous …"
      ]
     },
     "metadata": {},
     "output_type": "display_data"
    },
    {
     "data": {
      "application/vnd.jupyter.widget-view+json": {
       "model_id": "1f39faac39ce4891a2b8813692000110",
       "version_major": 2,
       "version_minor": 0
      },
      "text/plain": [
       "Canvas(toolbar=Toolbar(toolitems=[('Home', 'Reset original view', 'home', 'home'), ('Back', 'Back to previous …"
      ]
     },
     "metadata": {},
     "output_type": "display_data"
    },
    {
     "name": "stdout",
     "output_type": "stream",
     "text": [
      "RMSE Fused Online 1 is 0.047,0.117,0.044\n",
      "RMSE Fused Offline Path 1 is 0.053,0.157,0.036\n",
      "RMSE VO 1 is 0.044,0.142,0.047\n",
      "RMSE Fused Online 2 is 0.042,0.096,0.037\n",
      "RMSE Fused Offline Path 2 is 0.123,0.111,0.032\n",
      "RMSE VO 2 is 0.069,0.158,0.042\n"
     ]
    },
    {
     "data": {
      "application/vnd.jupyter.widget-view+json": {
       "model_id": "5baf091b27184c98a2413db156a7cbcc",
       "version_major": 2,
       "version_minor": 0
      },
      "text/plain": [
       "Canvas(toolbar=Toolbar(toolitems=[('Home', 'Reset original view', 'home', 'home'), ('Back', 'Back to previous …"
      ]
     },
     "metadata": {},
     "output_type": "display_data"
    },
    {
     "data": {
      "application/vnd.jupyter.widget-view+json": {
       "model_id": "793b1448b600457289d33ff53755f75e",
       "version_major": 2,
       "version_minor": 0
      },
      "text/plain": [
       "Canvas(toolbar=Toolbar(toolitems=[('Home', 'Reset original view', 'home', 'home'), ('Back', 'Back to previous …"
      ]
     },
     "metadata": {},
     "output_type": "display_data"
    },
    {
     "name": "stdout",
     "output_type": "stream",
     "text": [
      "RMSE 1->2 0.063,0.085,0.068\n"
     ]
    },
    {
     "data": {
      "application/vnd.jupyter.widget-view+json": {
       "model_id": "5f66c8ee96fb4f2d9766e36f9825369b",
       "version_major": 2,
       "version_minor": 0
      },
      "text/plain": [
       "Canvas(toolbar=Toolbar(toolitems=[('Home', 'Reset original view', 'home', 'home'), ('Back', 'Back to previous …"
      ]
     },
     "metadata": {},
     "output_type": "display_data"
    }
   ],
   "source": [
    "nodes = [1, 2]\n",
    "#poses, poses_fused, poses_vo, poses_path, loops, detections = bag_read(\"data/swarm_local_2020-12-10-19-39-05.bag\", nodes, False)\n",
    "#poses, poses_fused, poses_vo, poses_path, loops, detections = bag_read(\"data/swarm_local_2020-12-10-20-33-29.bag\", nodes, False)\n",
    "poses, poses_fused, poses_vo, poses_path, loops, detections = bag_read(\"data/swarm_local_pc.bag\", nodes, True)\n",
    "\n",
    "plt.close('all')\n",
    "\n",
    "plot_fused(poses, poses_fused, poses_vo, poses_path, loops, detections, nodes)\n",
    "plot_fused_err(poses, poses_fused, poses_vo, poses_path, nodes, 1)\n",
    "plt.show()"
   ]
  },
  {
   "cell_type": "code",
   "execution_count": 13,
   "metadata": {
    "collapsed": true,
    "jupyter": {
     "outputs_hidden": true
    }
   },
   "outputs": [
    {
     "name": "stdout",
     "output_type": "stream",
     "text": [
      "Total loops 35\n"
     ]
    },
    {
     "data": {
      "application/vnd.jupyter.widget-view+json": {
       "model_id": "3b03a71fa92245198d28cdbb5fdcdd9e",
       "version_major": 2,
       "version_minor": 0
      },
      "text/plain": [
       "Canvas(toolbar=Toolbar(toolitems=[('Home', 'Reset original view', 'home', 'home'), ('Back', 'Back to previous …"
      ]
     },
     "metadata": {},
     "output_type": "display_data"
    },
    {
     "data": {
      "application/vnd.jupyter.widget-view+json": {
       "model_id": "79c4e714c50e4339bb6556ea49a892fb",
       "version_major": 2,
       "version_minor": 0
      },
      "text/plain": [
       "Canvas(toolbar=Toolbar(toolitems=[('Home', 'Reset original view', 'home', 'home'), ('Back', 'Back to previous …"
      ]
     },
     "metadata": {},
     "output_type": "display_data"
    },
    {
     "name": "stdout",
     "output_type": "stream",
     "text": [
      "Pos cov 0.004861591505879211 0.016856564918012892 0.008257101341509147\n",
      "Yaw cov 0.005667222411463874\n"
     ]
    }
   ],
   "source": [
    "plot_loops_error(poses, loops, nodes)"
   ]
  },
  {
   "cell_type": "code",
   "execution_count": 13,
   "metadata": {},
   "outputs": [
    {
     "name": "stdout",
     "output_type": "stream",
     "text": [
      "Total detection 17\n",
      "Det 1 -> 2\n",
      "SELF POSE A [-0.02283687  0.06739278  0.00926561] B [-0.00121421  0.0003772  -0.00041816] p [-0.00498057 -0.99799836  0.06304334]\n",
      "POSE A [0.84066247 0.34483425 0.12716104] B [ 0.80670405 -0.64182764  0.12609518] PB-PA [-0.03395842 -0.98666189 -0.00106586]\n",
      "det dp [-0.02498057 -0.99799836  0.01304334] est dp[-0.03257029 -0.99946886 -0.00107963] yawa -0.10473467777826234deg\n",
      "Det 1 -> 2\n",
      "SELF POSE A [-0.02179781  0.06880701  0.01243234] B [-0.00100115  0.00047515 -0.00115276] p [-0.01000472 -0.99784544  0.06484129]\n",
      "POSE A [0.84065557 0.34484056 0.12716069] B [ 0.80670763 -0.64182581  0.12608894] PB-PA [-0.03394794 -0.98666637 -0.00107175]\n",
      "det dp [-0.03000472 -0.99784544  0.01484129] est dp[-0.03249807 -0.99947121 -0.00108559] yawa -0.10825847532598419deg\n",
      "Det 1 -> 2\n",
      "SELF POSE A [-0.01827164  0.07106538  0.0083272 ] B [-0.00113476  0.00029134 -0.00075739] p [-0.00507333 -0.99778277  0.06636117]\n",
      "POSE A [0.84065813 0.3448385  0.12718629] B [ 0.80670332 -0.64183155  0.12610908] PB-PA [-0.03395481 -0.98667005 -0.0010772 ]\n",
      "det dp [-0.02507333 -0.99778277  0.01636117] est dp[-0.03260288 -0.99946779 -0.00109111] yawa -0.10264077824993542deg\n",
      "Det 1 -> 2\n",
      "SELF POSE A [-0.01938269  0.07082806  0.008246  ] B [-0.00215254  0.00096571  0.00035291] p [-0.01010797 -0.99776327  0.0660779 ]\n",
      "POSE A [0.8406656  0.34483268 0.12715473] B [ 0.80671492 -0.64182409  0.1260815 ] PB-PA [-0.03395068 -0.98665678 -0.00107323]\n",
      "det dp [-0.03010797 -0.99776327  0.0160779 ] est dp[-0.03256952 -0.99946888 -0.0010871 ] yawa -0.10434040641349987deg\n",
      "Det 1 -> 2\n",
      "SELF POSE A [-0.01955218  0.06716488  0.01049089] B [-0.00185794  0.00108895  0.0005711 ] p [-0.01009918 -0.99779171  0.0656484 ]\n",
      "POSE A [0.8406645  0.34498745 0.12705992] B [ 0.80668971 -0.64188712  0.12612138] PB-PA [-3.39747864e-02 -9.86874566e-01 -9.38541426e-04]\n",
      "det dp [-0.03009918 -0.99779171  0.0156484 ] est dp[-3.28280541e-02 -9.99460562e-01 -9.50460527e-04] yawa -0.09048196616543364deg\n",
      "Det 1 -> 2\n",
      "SELF POSE A [-0.12406031  0.21844134  0.0821813 ] B [-0.00226511  0.00113739  0.0013326 ] p [-0.16810958 -0.98537996 -0.02766785]\n",
      "POSE A [0.7477185  0.4573947  0.21982273] B [ 0.80667765 -0.64186941  0.12612984] PB-PA [ 0.05895915 -1.09926411 -0.0936929 ]\n",
      "det dp [-0.18810958 -0.98537996 -0.07766785] est dp[-0.15834275 -0.98373571 -0.08480346] yawa 12.21496006116525deg\n",
      "Det 1 -> 2\n",
      "SELF POSE A [ 0.00015474  0.08447072 -0.0098286 ] B [-0.00203834  0.00100453  0.00016386] p [-0.10181444 -0.99452652  0.02346962]\n",
      "POSE A [0.83106022 0.341464   0.16500784] B [ 0.80668779 -0.64188659  0.12611823] PB-PA [-0.02437243 -0.98335059 -0.0388896 ]\n",
      "det dp [-0.12181444 -0.99452652 -0.02653038] est dp[-0.11885124 -0.99212587 -0.03950505] yawa 5.411775364336331deg\n",
      "Det 1 -> 2\n",
      "SELF POSE A [ 0.00633247  0.08116362 -0.04869887] B [-0.00270513  0.00148359  0.00029544] p [-0.03513034 -0.99791332  0.05417434]\n",
      "POSE A [0.84161198 0.34040661 0.12742504] B [ 0.80668868 -0.64189473  0.12610817] PB-PA [-0.0349233  -0.98230134 -0.00131687]\n",
      "det dp [-0.05513034 -0.99791332  0.00417434] est dp[-0.07295287 -0.99733449 -0.00133975] yawa 2.147618013297195deg\n",
      "Det 1 -> 2\n",
      "SELF POSE A [ 0.00151376  0.08004458 -0.05055798] B [-0.00222171  0.00140977  0.00100296] p [-0.02995038 -0.99844132  0.04709465]\n",
      "POSE A [0.84172959 0.33999935 0.1273939 ] B [ 0.80664466 -0.64189508  0.12605449] PB-PA [-0.03508493 -0.98189442 -0.00133941]\n",
      "det dp [-0.04995038 -0.99844132 -0.00290535] est dp[-0.07356128 -0.99728977 -0.00136324] yawa 2.172310085536216deg\n",
      "Det 1 -> 2\n",
      "SELF POSE A [ 0.00897471  0.08129649 -0.04217048] B [0.03324099 0.00585071 0.00243887] p [-0.01964545 -0.99853406  0.05043594]\n",
      "POSE A [0.84173664 0.3399541  0.12727841] B [ 0.82928406 -0.64473431  0.13628446] PB-PA [-0.01245257 -0.98468841  0.00900604]\n",
      "det dp [-3.96454474e-02 -9.98534062e-01  4.35942148e-04] est dp[-0.05038444 -0.99868803  0.00914497] yawa 2.163783044531477deg\n",
      "Det 1 -> 2\n",
      "SELF POSE A [ 0.0126986   0.08032643 -0.04131833] B [ 0.01955644 -0.0235677  -0.00749811] p [-0.03216011 -0.9983109   0.04838464]\n",
      "POSE A [0.84175917 0.33993345 0.12721674] B [ 0.82732224 -0.6502144   0.12603547] PB-PA [-0.01443693 -0.99014785 -0.00118127]\n",
      "det dp [-0.05216011 -0.9983109  -0.00161536] est dp[-0.05231698 -0.99862982 -0.0011929 ] yawa 2.1637265440229734deg\n",
      "Det 1 -> 2\n",
      "SELF POSE A [ 0.0019536   0.08215333 -0.04506714] B [ 0.01974429 -0.02081565 -0.00876864] p [-0.02459237 -0.99844071  0.05011353]\n",
      "POSE A [0.84175451 0.3399174  0.12719752] B [ 0.82735019 -0.65013536  0.12596506] PB-PA [-0.01440431 -0.99005275 -0.00123246]\n",
      "det dp [-4.45923725e-02 -9.98440709e-01  1.13530804e-04] est dp[-0.05229001 -0.99863117 -0.00124471] yawa 2.163985848467958deg\n",
      "Det 1 -> 2\n",
      "SELF POSE A [-0.16574812  0.14589618  0.66142912] B [-0.41874549  0.23838943  0.73642296] p [-0.19671751 -0.97403655  0.11204919]\n",
      "POSE A [0.7215213  0.45423782 0.72977872] B [ 0.39555309 -0.40949099  0.79839617] PB-PA [-0.3259682  -0.86372882  0.06861745]\n",
      "det dp [-0.21671751 -0.97403655  0.06204919] est dp[-0.18541178 -0.97986143  0.07412188] yawa -9.962100168457651deg\n",
      "Det 1 -> 2\n",
      "SELF POSE A [-0.13390259  0.20010209  0.6670398 ] B [-0.4156411   0.21472704  0.68985164] p [-0.18509016 -0.97944371  0.08019758]\n",
      "POSE A [0.71076728 0.46303193 0.73924776] B [ 0.36060625 -0.43858425  0.77432072] PB-PA [-0.35016104 -0.90161618  0.03507296]\n",
      "det dp [-0.20509016 -0.97944371  0.03019758] est dp[-0.17526042 -0.98385498  0.03623761] yawa -11.124998992932838deg\n",
      "Det 1 -> 2\n",
      "SELF POSE A [-0.14250828  0.19382564  0.66333335] B [-0.41911113  0.2042022   0.68086874] p [-0.18385867 -0.97898407  0.08823928]\n",
      "POSE A [0.71121149 0.45861696 0.73664562] B [ 0.35467262 -0.44555878  0.7667917 ] PB-PA [-0.35653887 -0.90417575  0.03014608]\n",
      "det dp [-0.20385867 -0.97898407  0.03823928] est dp[-0.17850727 -0.98345007  0.03100171] yawa -11.23354841611821deg\n",
      "Det 1 -> 2\n",
      "SELF POSE A [ 0.04964931 -0.26425501  0.80527472] B [-0.28030223 -0.07450917  0.74142396] p [-0.01680816 -0.99985656 -0.00208635]\n",
      "POSE A [0.8863308  0.06669583 0.86003663] B [ 0.48752355 -0.70433704  0.82353903] PB-PA [-0.39880726 -0.77103286 -0.0364976 ]\n",
      "det dp [-0.03680816 -0.99985656 -0.05208635] est dp[-0.04241664 -0.9982165  -0.04200761] yawa -24.918371513741107deg\n",
      "Det 1 -> 2\n",
      "SELF POSE A [ 0.18637714 -0.33011796  1.09469051] B [-0.38951674  0.1824771   1.00669622] p [-0.14532031 -0.98938314 -0.00173255]\n",
      "POSE A [ 1.00903509 -0.02740652  1.152878  ] B [ 0.35950058 -0.4725721   1.08931666] PB-PA [-0.64953451 -0.44516559 -0.06356134]\n",
      "det dp [-0.16532031 -0.98938314 -0.05173255] est dp[-0.14112588 -0.98671686 -0.08045691] yawa -47.43870997214633deg\n"
     ]
    },
    {
     "data": {
      "application/vnd.jupyter.widget-view+json": {
       "model_id": "57d532035bfe4f0aa051304e19386320",
       "version_major": 2,
       "version_minor": 0
      },
      "text/plain": [
       "Canvas(toolbar=Toolbar(toolitems=[('Home', 'Reset original view', 'home', 'home'), ('Back', 'Back to previous …"
      ]
     },
     "metadata": {},
     "output_type": "display_data"
    },
    {
     "data": {
      "application/vnd.jupyter.widget-view+json": {
       "model_id": "c5d22143da68478ebb9fb079695e45e2",
       "version_major": 2,
       "version_minor": 0
      },
      "text/plain": [
       "Canvas(toolbar=Toolbar(toolitems=[('Home', 'Reset original view', 'home', 'home'), ('Back', 'Back to previous …"
      ]
     },
     "metadata": {},
     "output_type": "display_data"
    },
    {
     "data": {
      "application/vnd.jupyter.widget-view+json": {
       "model_id": "c5c9ba6ad3014777b4da1626ce775570",
       "version_major": 2,
       "version_minor": 0
      },
      "text/plain": [
       "Canvas(toolbar=Toolbar(toolitems=[('Home', 'Reset original view', 'home', 'home'), ('Back', 'Back to previous …"
      ]
     },
     "metadata": {},
     "output_type": "display_data"
    },
    {
     "name": "stdout",
     "output_type": "stream",
     "text": [
      "Mean [ 0.0032337  -0.00079057 -0.00619679]\n",
      "Pos cov 0.00031438763998272774 6.008502150639535e-06 0.00013539112313634417\n"
     ]
    }
   ],
   "source": [
    "plt.close('all')\n",
    "plot_detection_error(poses, poses_vo, detections, nodes)\n"
   ]
  },
  {
   "cell_type": "code",
   "execution_count": null,
   "metadata": {},
   "outputs": [],
   "source": []
  },
  {
   "cell_type": "code",
   "execution_count": null,
   "metadata": {},
   "outputs": [],
   "source": []
  }
 ],
 "metadata": {
  "kernelspec": {
   "display_name": "Python 3",
   "language": "python",
   "name": "python3"
  },
  "language_info": {
   "codemirror_mode": {
    "name": "ipython",
    "version": 3
   },
   "file_extension": ".py",
   "mimetype": "text/x-python",
   "name": "python",
   "nbconvert_exporter": "python",
   "pygments_lexer": "ipython3",
   "version": "3.8.5"
  }
 },
 "nbformat": 4,
 "nbformat_minor": 4
}
