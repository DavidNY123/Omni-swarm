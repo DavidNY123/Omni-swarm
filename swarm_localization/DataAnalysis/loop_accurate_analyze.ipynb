{
 "cells": [
  {
   "cell_type": "code",
   "execution_count": 1,
   "metadata": {},
   "outputs": [
    {
     "name": "stderr",
     "output_type": "stream",
     "text": [
      "Failed to load Python extension for LZ4 support. LZ4 compression will not be available.\n"
     ]
    }
   ],
   "source": [
    "%matplotlib widget\n",
    "%config InlineBackend.figure_format = 'retina'\n",
    "import sys\n",
    "sys.path.append(\"../scripts\")\n",
    "%load_ext autoreload\n",
    "%autoreload 2\n",
    "from local_plot import *"
   ]
  },
  {
   "cell_type": "code",
   "execution_count": 4,
   "metadata": {},
   "outputs": [
    {
     "name": "stdout",
     "output_type": "stream",
     "text": [
      "Read poses from topic /SwarmNode1/pose\n",
      "Trajectory total length  105.25473063328084\n",
      "Read poses from topic /swarm_drones/swarm_drone_fused\n",
      "Read poses from topic /swarm_drones/swarm_frame_predict\n",
      "Read poses from topic /SwarmNode2/pose\n",
      "Trajectory total length  121.61648549126976\n",
      "Read poses from topic /swarm_drones/swarm_drone_fused\n",
      "Read poses from topic /swarm_drones/swarm_frame_predict\n"
     ]
    },
    {
     "name": "stderr",
     "output_type": "stream",
     "text": [
      "../scripts/local_plot.py:195: MatplotlibDeprecationWarning: Adding an axes using the same arguments as a previous axes currently reuses the earlier instance.  In a future version, a new instance will always be created and returned.  Meanwhile, this warning can be suppressed, and the future behavior ensured, by passing a unique label to each axes instance.\n",
      "  ax.plot(poses[i][\"pos\"][:,0], poses[i][\"pos\"][:,1], label=f\"Vicon Traj{i}\")\n",
      "../scripts/local_plot.py:195: MatplotlibDeprecationWarning: Adding an axes using the same arguments as a previous axes currently reuses the earlier instance.  In a future version, a new instance will always be created and returned.  Meanwhile, this warning can be suppressed, and the future behavior ensured, by passing a unique label to each axes instance.\n",
      "  ax.plot(poses[i][\"pos\"][:,0], poses[i][\"pos\"][:,1], label=f\"Vicon Traj{i}\")\n"
     ]
    },
    {
     "name": "stdout",
     "output_type": "stream",
     "text": [
      "RMSE 1 is 1.027,0.562,0.316\n",
      "RMSE VO 1 is 0.643,0.426,0.146\n",
      "RMSE 2 is 1.103,0.551,0.318\n",
      "RMSE VO 2 is 0.682,0.220,0.113\n",
      "RMSE 1->2 0.205,0.203,0.174\n"
     ]
    }
   ],
   "source": [
    "nodes = [1, 2]\n",
    "poses, poses_fused, poses_vo, loops = bag_read(\"data/swarm_local_pc.bag\", nodes, True)\n",
    "plot_fused(poses, poses_fused, poses_vo, loops, nodes)\n",
    "plot_fused_err(poses, poses_fused, poses_vo, nodes, 1)\n",
    "plt.show()"
   ]
  },
  {
   "cell_type": "code",
   "execution_count": 3,
   "metadata": {},
   "outputs": [
    {
     "name": "stdout",
     "output_type": "stream",
     "text": [
      "Total loops 113\n",
      "Error 2.844974514640768 {'ts_a': 81.60954666137695, 'ts_b': 81.01575255393982, 'id_a': 2, 'id_b': 1, 'dpos': array([-0.01504569,  3.62283577, -0.99914524]), 'dyaw': 0.03975565905823698}\n",
      "Error 2.6434042176921864 {'ts_a': 112.05966973304749, 'ts_b': 171.41571307182312, 'id_a': 2, 'id_b': 1, 'dpos': array([-0.10988601,  3.06582336, -0.33950822]), 'dyaw': -0.2768945587198215}\n",
      "Error 3.094871438150167 {'ts_a': 98.11579298973083, 'ts_b': 172.1100447177887, 'id_a': 1, 'id_b': 2, 'dpos': array([ 0.31717057,  2.21267214, -0.31980134]), 'dyaw': 0.03035598613571322}\n"
     ]
    },
    {
     "data": {
      "application/vnd.jupyter.widget-view+json": {
       "model_id": "604bd63148974f809d2f758759a8fc8d",
       "version_major": 2,
       "version_minor": 0
      },
      "text/plain": [
       "Canvas(toolbar=Toolbar(toolitems=[('Home', 'Reset original view', 'home', 'home'), ('Back', 'Back to previous …"
      ]
     },
     "metadata": {},
     "output_type": "display_data"
    },
    {
     "data": {
      "application/vnd.jupyter.widget-view+json": {
       "model_id": "98a0a6cfef94494eb9e57ef827dfada0",
       "version_major": 2,
       "version_minor": 0
      },
      "text/plain": [
       "Canvas(toolbar=Toolbar(toolitems=[('Home', 'Reset original view', 'home', 'home'), ('Back', 'Back to previous …"
      ]
     },
     "metadata": {},
     "output_type": "display_data"
    },
    {
     "name": "stdout",
     "output_type": "stream",
     "text": [
      "Pos cov 0.005747073087552221 0.20571628567772088 0.013965377747204445\n",
      "Yaw cov 0.002017965510456326\n"
     ]
    }
   ],
   "source": [
    "plot_loops_error(poses, loops, nodes)"
   ]
  },
  {
   "cell_type": "code",
   "execution_count": null,
   "metadata": {},
   "outputs": [],
   "source": []
  }
 ],
 "metadata": {
  "kernelspec": {
   "display_name": "Python 3",
   "language": "python",
   "name": "python3"
  },
  "language_info": {
   "codemirror_mode": {
    "name": "ipython",
    "version": 3
   },
   "file_extension": ".py",
   "mimetype": "text/x-python",
   "name": "python",
   "nbconvert_exporter": "python",
   "pygments_lexer": "ipython3",
   "version": "3.8.5"
  }
 },
 "nbformat": 4,
 "nbformat_minor": 4
}
