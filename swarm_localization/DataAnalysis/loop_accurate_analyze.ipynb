{
 "cells": [
  {
   "cell_type": "code",
   "execution_count": 4,
   "metadata": {},
   "outputs": [
    {
     "name": "stdout",
     "output_type": "stream",
     "text": [
      "The autoreload extension is already loaded. To reload it, use:\n",
      "  %reload_ext autoreload\n"
     ]
    },
    {
     "data": {
      "application/vnd.jupyter.widget-view+json": {
       "model_id": "d02d0999a5ec4cc7974caef5ca9728af",
       "version_major": 2,
       "version_minor": 0
      },
      "text/plain": [
       "Canvas(toolbar=Toolbar(toolitems=[('Home', 'Reset original view', 'home', 'home'), ('Back', 'Back to previous …"
      ]
     },
     "metadata": {},
     "output_type": "display_data"
    }
   ],
   "source": [
    "# %matplotlib inline\n",
    "%matplotlib ipympl\n",
    "%config InlineBackend.figure_format = 'retina'\n",
    "%load_ext autoreload\n",
    "%autoreload 2\n",
    "import matplotlib.pyplot as plt\n",
    "import sys\n",
    "sys.path.append(\"../scripts\")\n",
    "\n",
    "from local_plot import *\n",
    "#plt.tight_layout(pad=1.0, w_pad=0.2, h_pad=1.0)\n",
    "plt.tight_layout(pad=0.4, w_pad=0.5, h_pad=1.0)\n"
   ]
  },
  {
   "cell_type": "code",
   "execution_count": 22,
   "metadata": {},
   "outputs": [
    {
     "name": "stdout",
     "output_type": "stream",
     "text": [
      "Read poses from topic /SwarmNode1/pose\n",
      "Trajectory total length  175.3182184495388\n",
      "Read poses from topic /swarm_drones/swarm_drone_fused_pc\n",
      "Read poses from topic /swarm_drones/swarm_frame\n",
      "Read poses from topic /SwarmNode2/pose\n",
      "Trajectory total length  177.02611844924442\n",
      "Read poses from topic /swarm_drones/swarm_drone_fused_pc\n",
      "Read poses from topic /swarm_drones/swarm_frame\n",
      "Read poses from topic /SwarmNode5/pose\n",
      "Trajectory total length  178.82888719388328\n",
      "Read poses from topic /swarm_drones/swarm_drone_fused_pc\n",
      "Read poses from topic /swarm_drones/swarm_frame\n",
      "Read poses from topic /uwb_node/remote_nodes\n",
      "Yaw Offset,  0.2510497347439801 Fused Offset [ 3.82430721  0.83497128 -0.83747683]\n",
      "VIO Offset for 1: [1.39357255 0.00230168 0.13963028]\n",
      "[1.38936102e+00 1.24613522e-03 1.38203770e-01] [-0.00421152 -0.00105554 -0.00142651]\n",
      "VIO Offset for 2: [ 1.37920178 -1.07382297  0.13529333]\n",
      "[ 1.38872647 -1.07513535  0.13693129] [ 0.00952469 -0.00131239  0.00163795]\n",
      "VIO Offset for 5: [2.32485883 0.017712   0.13303362]\n",
      "[2.32574201 0.01950528 0.13332234] [0.00088318 0.00179328 0.00028872]\n"
     ]
    }
   ],
   "source": [
    "nodes = [1, 2, 5]\n",
    "main_id = 5\n",
    "t_calib = {\n",
    "    1:0,\n",
    "    2:0,\n",
    "    5:0\n",
    "}\n",
    "poses, poses_fused, poses_vo, poses_path, loops, detections, distances = bag_read(f\"/home/xuhao/output/output{main_id}/swarm_local_pc.bag\", nodes, True)"
   ]
  },
  {
   "cell_type": "code",
   "execution_count": 23,
   "metadata": {},
   "outputs": [
    {
     "data": {
      "application/vnd.jupyter.widget-view+json": {
       "model_id": "a2bbec50389b49048d67c5044a4fec7e",
       "version_major": 2,
       "version_minor": 0
      },
      "text/plain": [
       "Canvas(toolbar=Toolbar(toolitems=[('Home', 'Reset original view', 'home', 'home'), ('Back', 'Back to previous …"
      ]
     },
     "metadata": {},
     "output_type": "display_data"
    },
    {
     "data": {
      "application/vnd.jupyter.widget-view+json": {
       "model_id": "bc4484eae06d4d6badf5a4018cadce7d",
       "version_major": 2,
       "version_minor": 0
      },
      "text/plain": [
       "Canvas(toolbar=Toolbar(toolitems=[('Home', 'Reset original view', 'home', 'home'), ('Back', 'Back to previous …"
      ]
     },
     "metadata": {},
     "output_type": "display_data"
    },
    {
     "data": {
      "application/vnd.jupyter.widget-view+json": {
       "model_id": "e685669b3aeb4618a4a0553386c0c4a5",
       "version_major": 2,
       "version_minor": 0
      },
      "text/plain": [
       "Canvas(toolbar=Toolbar(toolitems=[('Home', 'Reset original view', 'home', 'home'), ('Back', 'Back to previous …"
      ]
     },
     "metadata": {},
     "output_type": "display_data"
    },
    {
     "data": {
      "application/vnd.jupyter.widget-view+json": {
       "model_id": "19fa81a857554136b43968e032820875",
       "version_major": 2,
       "version_minor": 0
      },
      "text/plain": [
       "Canvas(toolbar=Toolbar(toolitems=[('Home', 'Reset original view', 'home', 'home'), ('Back', 'Back to previous …"
      ]
     },
     "metadata": {},
     "output_type": "display_data"
    },
    {
     "data": {
      "application/vnd.jupyter.widget-view+json": {
       "model_id": "2f3357d119f441f88e7de248c04c1b4b",
       "version_major": 2,
       "version_minor": 0
      },
      "text/plain": [
       "Canvas(toolbar=Toolbar(toolitems=[('Home', 'Reset original view', 'home', 'home'), ('Back', 'Back to previous …"
      ]
     },
     "metadata": {},
     "output_type": "display_data"
    },
    {
     "data": {
      "application/vnd.jupyter.widget-view+json": {
       "model_id": "9dfc416da80345038f7cd993f8b5c68c",
       "version_major": 2,
       "version_minor": 0
      },
      "text/plain": [
       "Canvas(toolbar=Toolbar(toolitems=[('Home', 'Reset original view', 'home', 'home'), ('Back', 'Back to previous …"
      ]
     },
     "metadata": {},
     "output_type": "display_data"
    },
    {
     "data": {
      "application/vnd.jupyter.widget-view+json": {
       "model_id": "42bb0c61b6b841c98c5f481f196b570a",
       "version_major": 2,
       "version_minor": 0
      },
      "text/plain": [
       "Canvas(toolbar=Toolbar(toolitems=[('Home', 'Reset original view', 'home', 'home'), ('Back', 'Back to previous …"
      ]
     },
     "metadata": {},
     "output_type": "display_data"
    },
    {
     "data": {
      "application/vnd.jupyter.widget-view+json": {
       "model_id": "dfafe24e8f1544e284c2b9f0e393d5f5",
       "version_major": 2,
       "version_minor": 0
      },
      "text/plain": [
       "Canvas(toolbar=Toolbar(toolitems=[('Home', 'Reset original view', 'home', 'home'), ('Back', 'Back to previous …"
      ]
     },
     "metadata": {},
     "output_type": "display_data"
    },
    {
     "data": {
      "application/vnd.jupyter.widget-view+json": {
       "model_id": "8f910f98c9a043c793adbf796c5ca681",
       "version_major": 2,
       "version_minor": 0
      },
      "text/plain": [
       "Canvas(toolbar=Toolbar(toolitems=[('Home', 'Reset original view', 'home', 'home'), ('Back', 'Back to previous …"
      ]
     },
     "metadata": {},
     "output_type": "display_data"
    },
    {
     "data": {
      "application/vnd.jupyter.widget-view+json": {
       "model_id": "2160f35d6073490fbd90cf86509bf863",
       "version_major": 2,
       "version_minor": 0
      },
      "text/plain": [
       "Canvas(toolbar=Toolbar(toolitems=[('Home', 'Reset original view', 'home', 'home'), ('Back', 'Back to previous …"
      ]
     },
     "metadata": {},
     "output_type": "display_data"
    },
    {
     "name": "stdout",
     "output_type": "stream",
     "text": [
      "RMSE 1->2 0.157,0.244,0.083 yaw 1.99 deg\n",
      "BIAS 1->2 0.060,0.127,0.023\n",
      "RMSE NO BIAS 1->2 0.145,0.209,0.080\n",
      "VO RMSE 1->2 0.300,0.247,0.073 yaw 1.86 deg\n",
      "VO BIAS 1->2 0.178,0.054,-0.061\n"
     ]
    }
   ],
   "source": [
    "plt.close('all')\n",
    "plot_fused(poses, poses_fused, poses_vo, poses_path, loops, detections, nodes, t_calib = t_calib)\n",
    "plot_relative_pose_err(poses, poses_fused, poses_vo, 1, 2)\n",
    "#plot_relative_pose_err(poses, poses_fused, poses_vo, 1, 5)\n",
    "plt.show()"
   ]
  },
  {
   "cell_type": "code",
   "execution_count": null,
   "metadata": {
    "jupyter": {
     "source_hidden": true
    }
   },
   "outputs": [],
   "source": [
    "#plt.close('all')\n",
    "t_calib = {\n",
    "    1:0,\n",
    "    2:0\n",
    "}\n",
    "plot_detections_error(poses, poses_vo, detections, nodes, 1,  t_calib)\n",
    "\n"
   ]
  },
  {
   "cell_type": "code",
   "execution_count": 24,
   "metadata": {},
   "outputs": [
    {
     "name": "stdout",
     "output_type": "stream",
     "text": [
      "Total loops 1060\n"
     ]
    },
    {
     "data": {
      "application/vnd.jupyter.widget-view+json": {
       "model_id": "c8dbdf6f06e244ae80f71bf130bfb038",
       "version_major": 2,
       "version_minor": 0
      },
      "text/plain": [
       "Canvas(toolbar=Toolbar(toolitems=[('Home', 'Reset original view', 'home', 'home'), ('Back', 'Back to previous …"
      ]
     },
     "metadata": {},
     "output_type": "display_data"
    },
    {
     "data": {
      "application/vnd.jupyter.widget-view+json": {
       "model_id": "61c68bc8316e471183d98e3796b6b3a3",
       "version_major": 2,
       "version_minor": 0
      },
      "text/plain": [
       "Canvas(toolbar=Toolbar(toolitems=[('Home', 'Reset original view', 'home', 'home'), ('Back', 'Back to previous …"
      ]
     },
     "metadata": {},
     "output_type": "display_data"
    },
    {
     "data": {
      "application/vnd.jupyter.widget-view+json": {
       "model_id": "ee6c2313ea8c4f32a755f96061f900e3",
       "version_major": 2,
       "version_minor": 0
      },
      "text/plain": [
       "Canvas(toolbar=Toolbar(toolitems=[('Home', 'Reset original view', 'home', 'home'), ('Back', 'Back to previous …"
      ]
     },
     "metadata": {},
     "output_type": "display_data"
    },
    {
     "data": {
      "application/vnd.jupyter.widget-view+json": {
       "model_id": "fa46f3b84fb3408d8caaec72fb36e066",
       "version_major": 2,
       "version_minor": 0
      },
      "text/plain": [
       "Canvas(toolbar=Toolbar(toolitems=[('Home', 'Reset original view', 'home', 'home'), ('Back', 'Back to previous …"
      ]
     },
     "metadata": {},
     "output_type": "display_data"
    },
    {
     "name": "stdout",
     "output_type": "stream",
     "text": [
      "Pos cov 0.028, 0.127, 0.004\n",
      "Yaw cov 0.060\n",
      "0.2 Pos cov [array(0.00862697), array(0.00980323), array(0.00054973)], std 0.114 Yaw cov 0.025\n",
      "0.28421052631578947 Pos cov [array(0.01337444), array(0.0159345), array(0.00065045)], std 0.144 Yaw cov 0.028\n",
      "0.368421052631579 Pos cov [array(0.0209263), array(0.02616755), array(0.00205876)], std 0.183 Yaw cov 0.029\n",
      "0.45263157894736844 Pos cov [array(0.02410927), array(0.03140793), array(0.00261767)], std 0.199 Yaw cov 0.027\n",
      "0.5368421052631579 Pos cov [array(0.02878196), array(0.03966993), array(0.00340956)], std 0.222 Yaw cov 0.027\n",
      "0.6210526315789473 Pos cov [array(0.02921906), array(0.04313571), array(0.00392482)], std 0.229 Yaw cov 0.027\n",
      "0.7052631578947368 Pos cov [array(0.03075754), array(0.04488582), array(0.0039921)], std 0.234 Yaw cov 0.028\n",
      "0.7894736842105263 Pos cov [array(0.03043225), array(0.05234294), array(0.00272303)], std 0.246 Yaw cov 0.031\n",
      "0.8736842105263158 Pos cov [array(0.03241445), array(0.05861561), array(0.00313886)], std 0.259 Yaw cov 0.032\n",
      "0.9578947368421054 Pos cov [array(0.03069809), array(0.06111688), array(0.00365285)], std 0.262 Yaw cov 0.034\n",
      "1.0421052631578946 Pos cov [array(0.03062899), array(0.06821656), array(0.0045574)], std 0.274 Yaw cov 0.035\n",
      "1.1263157894736842 Pos cov [array(0.0414561), array(0.10710408), array(0.00541779)], std 0.339 Yaw cov 0.042\n",
      "1.2105263157894737 Pos cov [array(0.04893395), array(0.11129783), array(0.00527859)], std 0.349 Yaw cov 0.045\n",
      "1.2947368421052632 Pos cov [array(0.060749), array(0.1226763), array(0.00588331)], std 0.370 Yaw cov 0.051\n",
      "1.3789473684210525 Pos cov [array(0.07121407), array(0.13205526), array(0.00613349)], std 0.388 Yaw cov 0.050\n",
      "1.463157894736842 Pos cov [array(0.07065809), array(0.12513522), array(0.00632355)], std 0.379 Yaw cov 0.054\n",
      "1.5473684210526315 Pos cov [array(0.05331451), array(0.11676189), array(0.00790046)], std 0.359 Yaw cov 0.043\n",
      "1.631578947368421 Pos cov [array(0.02932019), array(0.2535504), array(0.02542094)], std 0.506 Yaw cov 0.036\n",
      "1.7157894736842105 Pos cov [array(0.03127832), array(0.64655139), array(0.04576818)], std 0.806 Yaw cov 0.036\n",
      "1.8 Pos cov [array(0.03466501), array(0.87120957), array(0.060122)], std 0.935 Yaw cov 0.038\n"
     ]
    },
    {
     "data": {
      "application/vnd.jupyter.widget-view+json": {
       "model_id": "7fec76cccf664fe78708a85454d187eb",
       "version_major": 2,
       "version_minor": 0
      },
      "text/plain": [
       "Canvas(toolbar=Toolbar(toolitems=[('Home', 'Reset original view', 'home', 'home'), ('Back', 'Back to previous …"
      ]
     },
     "metadata": {},
     "output_type": "display_data"
    }
   ],
   "source": [
    "plt.close(\"all\")\n",
    "plot_loops_error(poses, loops, nodes)"
   ]
  },
  {
   "cell_type": "code",
   "execution_count": 16,
   "metadata": {},
   "outputs": [
    {
     "data": {
      "application/vnd.jupyter.widget-view+json": {
       "model_id": "b71c603a4ea848e8913d164409bf7345",
       "version_major": 2,
       "version_minor": 0
      },
      "text/plain": [
       "Canvas(toolbar=Toolbar(toolitems=[('Home', 'Reset original view', 'home', 'home'), ('Back', 'Back to previous …"
      ]
     },
     "metadata": {},
     "output_type": "display_data"
    },
    {
     "name": "stdout",
     "output_type": "stream",
     "text": [
      "Distce RMSE 0.26404844707656355\n",
      "Fit 0.6854986679650925, 0.14222796713839722\n"
     ]
    },
    {
     "data": {
      "application/vnd.jupyter.widget-view+json": {
       "model_id": "0f2ef816d9024bfcba488bf5a911e664",
       "version_major": 2,
       "version_minor": 0
      },
      "text/plain": [
       "Canvas(toolbar=Toolbar(toolitems=[('Home', 'Reset original view', 'home', 'home'), ('Back', 'Back to previous …"
      ]
     },
     "metadata": {},
     "output_type": "display_data"
    },
    {
     "data": {
      "application/vnd.jupyter.widget-view+json": {
       "model_id": "0e4af8e550724f708c3a67bdd1ff1738",
       "version_major": 2,
       "version_minor": 0
      },
      "text/plain": [
       "Canvas(toolbar=Toolbar(toolitems=[('Home', 'Reset original view', 'home', 'home'), ('Back', 'Back to previous …"
      ]
     },
     "metadata": {},
     "output_type": "display_data"
    },
    {
     "name": "stdout",
     "output_type": "stream",
     "text": [
      "Distce RMSE 1.1865794478792135\n",
      "Fit -0.00015600819251896742, 1.6783565363279456\n"
     ]
    },
    {
     "data": {
      "application/vnd.jupyter.widget-view+json": {
       "model_id": "1b95a8ca80554c74994ab32f8cde7113",
       "version_major": 2,
       "version_minor": 0
      },
      "text/plain": [
       "Canvas(toolbar=Toolbar(toolitems=[('Home', 'Reset original view', 'home', 'home'), ('Back', 'Back to previous …"
      ]
     },
     "metadata": {},
     "output_type": "display_data"
    }
   ],
   "source": [
    "plt.close(\"all\")\n",
    "plot_distance_err(poses, poses_fused, poses_vo, poses_path, distances, 1, nodes)"
   ]
  },
  {
   "cell_type": "code",
   "execution_count": 27,
   "metadata": {},
   "outputs": [
    {
     "name": "stdout",
     "output_type": "stream",
     "text": [
      "Total detection 34\n"
     ]
    },
    {
     "data": {
      "application/vnd.jupyter.widget-view+json": {
       "model_id": "f1079fdb000a41d3b300783f2c97fbbb",
       "version_major": 2,
       "version_minor": 0
      },
      "text/plain": [
       "Canvas(toolbar=Toolbar(toolitems=[('Home', 'Reset original view', 'home', 'home'), ('Back', 'Back to previous …"
      ]
     },
     "metadata": {},
     "output_type": "display_data"
    },
    {
     "data": {
      "application/vnd.jupyter.widget-view+json": {
       "model_id": "505706fa92a94b049d1d03885eed44db",
       "version_major": 2,
       "version_minor": 0
      },
      "text/plain": [
       "Canvas(toolbar=Toolbar(toolitems=[('Home', 'Reset original view', 'home', 'home'), ('Back', 'Back to previous …"
      ]
     },
     "metadata": {},
     "output_type": "display_data"
    },
    {
     "name": "stdout",
     "output_type": "stream",
     "text": [
      "Mean [-0.03453801 -0.00016916 -0.01595056]\n",
      "Pos cov 0.0005813199370671816 0.00031673289879725436 0.005121676778859121\n"
     ]
    },
    {
     "data": {
      "application/vnd.jupyter.widget-view+json": {
       "model_id": "131e5e18d5734469904cf78faa0dacaa",
       "version_major": 2,
       "version_minor": 0
      },
      "text/plain": [
       "Canvas(toolbar=Toolbar(toolitems=[('Home', 'Reset original view', 'home', 'home'), ('Back', 'Back to previous …"
      ]
     },
     "metadata": {},
     "output_type": "display_data"
    },
    {
     "data": {
      "application/vnd.jupyter.widget-view+json": {
       "model_id": "c8e6b04c672a45f0a9e1cab4660bb408",
       "version_major": 2,
       "version_minor": 0
      },
      "text/plain": [
       "Canvas(toolbar=Toolbar(toolitems=[('Home', 'Reset original view', 'home', 'home'), ('Back', 'Back to previous …"
      ]
     },
     "metadata": {},
     "output_type": "display_data"
    },
    {
     "data": {
      "application/vnd.jupyter.widget-view+json": {
       "model_id": "4e67a12d97404cf7be9c8107b442f2d1",
       "version_major": 2,
       "version_minor": 0
      },
      "text/plain": [
       "Canvas(toolbar=Toolbar(toolitems=[('Home', 'Reset original view', 'home', 'home'), ('Back', 'Back to previous …"
      ]
     },
     "metadata": {},
     "output_type": "display_data"
    },
    {
     "name": "stderr",
     "output_type": "stream",
     "text": [
      "No handles with labels found to put in legend.\n"
     ]
    },
    {
     "name": "stdout",
     "output_type": "stream",
     "text": [
      "INV DEPS ERR Variance 0.008176202427435941\n"
     ]
    },
    {
     "data": {
      "application/vnd.jupyter.widget-view+json": {
       "model_id": "cb07b7ed38b44a779ab266055ef5676a",
       "version_major": 2,
       "version_minor": 0
      },
      "text/plain": [
       "Canvas(toolbar=Toolbar(toolitems=[('Home', 'Reset original view', 'home', 'home'), ('Back', 'Back to previous …"
      ]
     },
     "metadata": {},
     "output_type": "display_data"
    },
    {
     "data": {
      "application/vnd.jupyter.widget-view+json": {
       "model_id": "3490c60f1be04d6396c192fb87d67ead",
       "version_major": 2,
       "version_minor": 0
      },
      "text/plain": [
       "Canvas(toolbar=Toolbar(toolitems=[('Home', 'Reset original view', 'home', 'home'), ('Back', 'Back to previous …"
      ]
     },
     "metadata": {},
     "output_type": "display_data"
    },
    {
     "data": {
      "application/vnd.jupyter.widget-view+json": {
       "model_id": "8a42d9955c1548bc8b693d5a1d84341c",
       "version_major": 2,
       "version_minor": 0
      },
      "text/plain": [
       "Canvas(toolbar=Toolbar(toolitems=[('Home', 'Reset original view', 'home', 'home'), ('Back', 'Back to previous …"
      ]
     },
     "metadata": {},
     "output_type": "display_data"
    },
    {
     "name": "stderr",
     "output_type": "stream",
     "text": [
      "No handles with labels found to put in legend.\n"
     ]
    },
    {
     "name": "stdout",
     "output_type": "stream",
     "text": [
      "Dep ERR MEAN -0.1589998291831044\n",
      "DEPS ERR Variance 0.03272589523447834\n"
     ]
    },
    {
     "data": {
      "application/vnd.jupyter.widget-view+json": {
       "model_id": "35ca9c899a1e40b2a63c98057a662337",
       "version_major": 2,
       "version_minor": 0
      },
      "text/plain": [
       "Canvas(toolbar=Toolbar(toolitems=[('Home', 'Reset original view', 'home', 'home'), ('Back', 'Back to previous …"
      ]
     },
     "metadata": {},
     "output_type": "display_data"
    },
    {
     "data": {
      "application/vnd.jupyter.widget-view+json": {
       "model_id": "86b023d66d544925a2aec7f3d4c56ab5",
       "version_major": 2,
       "version_minor": 0
      },
      "text/plain": [
       "Canvas(toolbar=Toolbar(toolitems=[('Home', 'Reset original view', 'home', 'home'), ('Back', 'Back to previous …"
      ]
     },
     "metadata": {},
     "output_type": "display_data"
    }
   ],
   "source": [
    "plt.close(\"all\")\n",
    "plot_detections_error(poses, poses_vo, detections, nodes, main_id, t_calib, False)"
   ]
  },
  {
   "cell_type": "code",
   "execution_count": 13,
   "metadata": {},
   "outputs": [
    {
     "name": "stdout",
     "output_type": "stream",
     "text": [
      "Read poses from topic /SwarmNode1/pose\n",
      "Trajectory total length  37.58802201396706\n",
      "Read poses from topic /swarm_drones/swarm_drone_fused_pc\n",
      "Read poses from topic /swarm_drones/swarm_frame\n",
      "Read poses from topic /SwarmNode2/pose\n",
      "Trajectory total length  40.94637988273649\n",
      "Read poses from topic /swarm_drones/swarm_drone_fused_pc\n",
      "Read poses from topic /swarm_drones/swarm_frame\n",
      "Read poses from topic /uwb_node/remote_nodes\n",
      "Yaw Offset,  0.358753967912729 Fused Offset [0.82197479 0.36697722 0.12884529]\n",
      "VIO Offset for 1: [ 0.82751967 -0.64795101  0.13429037]\n",
      "[ 0.82952797 -0.64729339  0.13611533] [0.00200831 0.00065762 0.00182496]\n",
      "VIO Offset for 2: [0.85148821 0.37205404 0.11692946]\n",
      "[0.85177636 0.36551121 0.11825639] [ 0.00028815 -0.00654283  0.00132693]\n",
      "Total detection 57\n"
     ]
    },
    {
     "data": {
      "application/vnd.jupyter.widget-view+json": {
       "model_id": "7cee8135cabc47a5ae800620ee7d4836",
       "version_major": 2,
       "version_minor": 0
      },
      "text/plain": [
       "Canvas(toolbar=Toolbar(toolitems=[('Home', 'Reset original view', 'home', 'home'), ('Back', 'Back to previous …"
      ]
     },
     "metadata": {},
     "output_type": "display_data"
    },
    {
     "data": {
      "application/vnd.jupyter.widget-view+json": {
       "model_id": "495e9c1e51d24ae6883ce72950a1f29b",
       "version_major": 2,
       "version_minor": 0
      },
      "text/plain": [
       "Canvas(toolbar=Toolbar(toolitems=[('Home', 'Reset original view', 'home', 'home'), ('Back', 'Back to previous …"
      ]
     },
     "metadata": {},
     "output_type": "display_data"
    },
    {
     "name": "stdout",
     "output_type": "stream",
     "text": [
      "Mean [ 0.04456637 -0.02117819 -0.09128836]\n",
      "Pos cov 0.0011899507926698063 0.0002592466858586337 0.0012459697523559481\n"
     ]
    },
    {
     "data": {
      "application/vnd.jupyter.widget-view+json": {
       "model_id": "3cf61815fa6644028f91110604e13ceb",
       "version_major": 2,
       "version_minor": 0
      },
      "text/plain": [
       "Canvas(toolbar=Toolbar(toolitems=[('Home', 'Reset original view', 'home', 'home'), ('Back', 'Back to previous …"
      ]
     },
     "metadata": {},
     "output_type": "display_data"
    },
    {
     "data": {
      "application/vnd.jupyter.widget-view+json": {
       "model_id": "ca5bdd1ae1244d3e9e5ce18dbff4faca",
       "version_major": 2,
       "version_minor": 0
      },
      "text/plain": [
       "Canvas(toolbar=Toolbar(toolitems=[('Home', 'Reset original view', 'home', 'home'), ('Back', 'Back to previous …"
      ]
     },
     "metadata": {},
     "output_type": "display_data"
    },
    {
     "data": {
      "application/vnd.jupyter.widget-view+json": {
       "model_id": "1840aaa543e5471888abb5d61cff73ed",
       "version_major": 2,
       "version_minor": 0
      },
      "text/plain": [
       "Canvas(toolbar=Toolbar(toolitems=[('Home', 'Reset original view', 'home', 'home'), ('Back', 'Back to previous …"
      ]
     },
     "metadata": {},
     "output_type": "display_data"
    },
    {
     "name": "stderr",
     "output_type": "stream",
     "text": [
      "No handles with labels found to put in legend.\n"
     ]
    },
    {
     "name": "stdout",
     "output_type": "stream",
     "text": [
      "INV DEPS ERR Variance 0.007339697050941282\n"
     ]
    },
    {
     "data": {
      "application/vnd.jupyter.widget-view+json": {
       "model_id": "bad59ba5d1384bb59ade303ba84b2f4c",
       "version_major": 2,
       "version_minor": 0
      },
      "text/plain": [
       "Canvas(toolbar=Toolbar(toolitems=[('Home', 'Reset original view', 'home', 'home'), ('Back', 'Back to previous …"
      ]
     },
     "metadata": {},
     "output_type": "display_data"
    },
    {
     "data": {
      "application/vnd.jupyter.widget-view+json": {
       "model_id": "4b501abec8bd4ae19367b0ade79acc68",
       "version_major": 2,
       "version_minor": 0
      },
      "text/plain": [
       "Canvas(toolbar=Toolbar(toolitems=[('Home', 'Reset original view', 'home', 'home'), ('Back', 'Back to previous …"
      ]
     },
     "metadata": {},
     "output_type": "display_data"
    },
    {
     "data": {
      "application/vnd.jupyter.widget-view+json": {
       "model_id": "f80bbe0d223f4964b5e948a509d4362d",
       "version_major": 2,
       "version_minor": 0
      },
      "text/plain": [
       "Canvas(toolbar=Toolbar(toolitems=[('Home', 'Reset original view', 'home', 'home'), ('Back', 'Back to previous …"
      ]
     },
     "metadata": {},
     "output_type": "display_data"
    },
    {
     "name": "stderr",
     "output_type": "stream",
     "text": [
      "No handles with labels found to put in legend.\n"
     ]
    },
    {
     "name": "stdout",
     "output_type": "stream",
     "text": [
      "Dep ERR MEAN -0.03359855640532114\n",
      "DEPS ERR Variance 0.020239088180632515\n"
     ]
    },
    {
     "data": {
      "application/vnd.jupyter.widget-view+json": {
       "model_id": "f04678a7850647c09ce1c55b864916b5",
       "version_major": 2,
       "version_minor": 0
      },
      "text/plain": [
       "Canvas(toolbar=Toolbar(toolitems=[('Home', 'Reset original view', 'home', 'home'), ('Back', 'Back to previous …"
      ]
     },
     "metadata": {},
     "output_type": "display_data"
    },
    {
     "data": {
      "application/vnd.jupyter.widget-view+json": {
       "model_id": "de66153f0a634b33ad5e8b4c46fd4f20",
       "version_major": 2,
       "version_minor": 0
      },
      "text/plain": [
       "Canvas(toolbar=Toolbar(toolitems=[('Home', 'Reset original view', 'home', 'home'), ('Back', 'Back to previous …"
      ]
     },
     "metadata": {},
     "output_type": "display_data"
    }
   ],
   "source": [
    "plt.close(\"all\")\n",
    "poses, poses_fused, poses_vo, poses_path, loops, detections, distances = bag_read(f\"/home/xuhao/output/output{2}/swarm_local_pc.bag\", nodes, True)\n",
    "plot_detections_error(poses, poses_vo, detections, nodes, 2, t_calib, False)"
   ]
  },
  {
   "cell_type": "code",
   "execution_count": 9,
   "metadata": {},
   "outputs": [
    {
     "data": {
      "text/plain": [
       "{1: {'t': array([2.07460642e-01, 2.19896793e-01, 2.32654333e-01, ...,\n",
       "         4.70574965e+02, 4.70589706e+02, 4.70604219e+02]),\n",
       "  'pos': array([[2.0523324 , 0.49786651, 0.13559222],\n",
       "         [2.05232692, 0.49786705, 0.13555817],\n",
       "         [2.05233169, 0.49788171, 0.13558234],\n",
       "         ...,\n",
       "         [1.98588347, 0.46114218, 0.13633791],\n",
       "         [1.98589456, 0.46113709, 0.13634405],\n",
       "         [1.98588395, 0.46113604, 0.13631816]]),\n",
       "  'pos_func': <scipy.interpolate.interpolate.interp1d at 0x7f5c03e1e630>,\n",
       "  'ypr': array([[-0.07218862, -0.0135779 , -0.00615798],\n",
       "         [-0.07228596, -0.01366192, -0.00621144],\n",
       "         [-0.07220502, -0.01357626, -0.00612769],\n",
       "         ...,\n",
       "         [-0.10536368, -0.00468151, -0.00869748],\n",
       "         [-0.10531976, -0.00478344, -0.00881164],\n",
       "         [-0.10524748, -0.00470786, -0.00862775]]),\n",
       "  'ypr_func': <scipy.interpolate.interpolate.interp1d at 0x7f5c024cc400>,\n",
       "  'quat': array([[-0.99932021,  0.00332189,  0.00667334,  0.03610636],\n",
       "         [-0.99931806,  0.00335045,  0.00671419,  0.03615529],\n",
       "         [-0.99931997,  0.00330679,  0.00667304,  0.03611445],\n",
       "         ...,\n",
       "         [-0.99859995,  0.00446594,  0.00210849,  0.052667  ],\n",
       "         [-0.99860078,  0.00452557,  0.00215648,  0.0526454 ],\n",
       "         [-0.99860317,  0.00443169,  0.00212374,  0.05260896]])},\n",
       " 2: {'t': array([2.07425833e-01, 2.19857693e-01, 2.32611179e-01, ...,\n",
       "         4.70574618e+02, 4.70589668e+02, 4.70600273e+02]),\n",
       "  'pos': array([[ 2.02908969, -0.53636158,  0.14000486],\n",
       "         [ 2.02908421, -0.53636032,  0.13999021],\n",
       "         [ 2.02908111, -0.53635877,  0.13998936],\n",
       "         ...,\n",
       "         [ 1.97975659, -0.33343962,  0.13601692],\n",
       "         [ 1.97975421, -0.33346227,  0.13602942],\n",
       "         [ 1.9797442 , -0.33342201,  0.13602836]]),\n",
       "  'pos_func': <scipy.interpolate.interpolate.interp1d at 0x7f5c025783b0>,\n",
       "  'ypr': array([[ 0.00355953, -0.01128613, -0.01281479],\n",
       "         [ 0.00355062, -0.01127025, -0.01281075],\n",
       "         [ 0.00354256, -0.01128847, -0.01279891],\n",
       "         ...,\n",
       "         [ 0.04581632, -0.00446285, -0.00444622],\n",
       "         [ 0.04587439, -0.00436823, -0.00452442],\n",
       "         [ 0.04591707, -0.00456107, -0.00462319]]),\n",
       "  'ypr_func': <scipy.interpolate.interpolate.interp1d at 0x7f5c49b6c770>,\n",
       "  'quat': array([[-0.99996203,  0.0063972 ,  0.00565431, -0.00174354],\n",
       "         [-0.99996209,  0.00639521,  0.00564634, -0.00173915],\n",
       "         [-0.99996209,  0.0063893 ,  0.00565542, -0.0017351 ],\n",
       "         ...,\n",
       "         [-0.99973279,  0.00217141,  0.00228176, -0.02290108],\n",
       "         [-0.9997322 ,  0.00221151,  0.00223541, -0.02293013],\n",
       "         [-0.9997313 ,  0.00225863,  0.00233299, -0.02295113]])},\n",
       " 5: {'t': array([2.07362890e-01, 2.19748020e-01, 2.32528687e-01, ...,\n",
       "         4.70573102e+02, 4.70589592e+02, 4.70600203e+02]),\n",
       "  'pos': array([[ 0.45019037, -0.01024631,  0.1215855 ],\n",
       "         [ 0.45016828, -0.01024155,  0.12162643],\n",
       "         [ 0.45021823, -0.01025512,  0.12155404],\n",
       "         ...,\n",
       "         [ 0.41404632,  0.10691095,  0.12016084],\n",
       "         [ 0.4140344 ,  0.10691129,  0.12015802],\n",
       "         [ 0.41403607,  0.1069117 ,  0.12015682]]),\n",
       "  'pos_func': <scipy.interpolate.interpolate.interp1d at 0x7f5c49b73900>,\n",
       "  'ypr': array([[ 0.00786577, -0.00599317, -0.00236294],\n",
       "         [ 0.00790306, -0.00594771, -0.00240329],\n",
       "         [ 0.00792751, -0.00585684, -0.00205578],\n",
       "         ...,\n",
       "         [ 0.11624256, -0.00326979, -0.00831919],\n",
       "         [ 0.11618731, -0.00331015, -0.00828143],\n",
       "         [ 0.11623719, -0.0032725 , -0.00831074]]),\n",
       "  'ypr_func': <scipy.interpolate.interpolate.interp1d at 0x7f5c49bb8180>,\n",
       "  'quat': array([[ 0.99998713, -0.00116967, -0.0030012 ,  0.00392931],\n",
       "         [ 0.99998713, -0.00118988, -0.00297857,  0.00394793],\n",
       "         [ 0.99998736, -0.00101627, -0.00293247,  0.00396071],\n",
       "         ...,\n",
       "         [ 0.99830186, -0.00405759, -0.00187374,  0.05808119],\n",
       "         [ 0.99830353, -0.00403762, -0.00189268,  0.05805356],\n",
       "         [ 0.9983021 , -0.0040533 , -0.00187484,  0.05807851]])}}"
      ]
     },
     "execution_count": 9,
     "metadata": {},
     "output_type": "execute_result"
    }
   ],
   "source": [
    "poses"
   ]
  },
  {
   "cell_type": "code",
   "execution_count": null,
   "metadata": {},
   "outputs": [],
   "source": []
  }
 ],
 "metadata": {
  "kernelspec": {
   "display_name": "Python 3",
   "language": "python",
   "name": "python3"
  },
  "language_info": {
   "codemirror_mode": {
    "name": "ipython",
    "version": 3
   },
   "file_extension": ".py",
   "mimetype": "text/x-python",
   "name": "python",
   "nbconvert_exporter": "python",
   "pygments_lexer": "ipython3",
   "version": "3.8.5"
  }
 },
 "nbformat": 4,
 "nbformat_minor": 4
}
