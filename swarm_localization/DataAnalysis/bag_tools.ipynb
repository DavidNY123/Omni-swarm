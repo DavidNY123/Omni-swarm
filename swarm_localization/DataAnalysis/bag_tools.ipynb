{
 "cells": [
  {
   "cell_type": "code",
   "execution_count": 3,
   "metadata": {},
   "outputs": [],
   "source": [
    "import rosbag\n",
    "PATH=\"/home/xuhao/Dropbox/data/TRO2020-SwarmLocal/tro2020-bags/pre/\"\n",
    "PATHOUT=\"/home/xuhao/bags/swarm_local_2020_12/\"\n",
    "input_bag = PATH +\"drone1-swarm_local_2020-12-13-21-31-51.bag\"\n",
    "output_bag = PATHOUT + \"drone1-swarm_local_2020-12-13-21-31-51_processed.bag\"\n",
    "moveout_topics = {\n",
    "    \"/swarm_drones/node_detected\",\n",
    "    \"/swarm_drones/swarm_drone_fused\",\n",
    "    \"/swarm_drones/swarm_drone_fused_relative\",\n",
    "    \"/swarm_drones/swarm_frame\",\n",
    "    \"/swarm_drones/swarm_frame_predict\"\n",
    "}\n",
    "#Moveout node_detected\n",
    "with rosbag.Bag(output_bag, 'w') as outbag:\n",
    "    for topic, msg, t in rosbag.Bag(input_bag).read_messages():\n",
    "        if topic in moveout_topics:\n",
    "            pass\n",
    "        else:\n",
    "            #outbag.write(topic, msg, msg.header.stamp if msg._has_header else t)\n",
    "            outbag.write(topic, msg, t)            "
   ]
  },
  {
   "cell_type": "code",
   "execution_count": 17,
   "metadata": {},
   "outputs": [
    {
     "name": "stdout",
     "output_type": "stream",
     "text": [
      "Bag drone1-swarm_local_raw_2020-12-16-20-00-38.bag start at 1608120038.617251\n",
      "Bag drone2-swarm_local_raw_2020-12-16-20-00-34.bag start at 1608120034.5863779\n",
      "Will use 1608120038.617251 as start\n",
      "Converting drone1-swarm_local_raw_2020-12-16-20-00-38.bag\n",
      "Converting drone2-swarm_local_raw_2020-12-16-20-00-34.bag\n"
     ]
    }
   ],
   "source": [
    "import rosbag\n",
    "import os\n",
    "PATH=\"/home/xuhao/bags/swarm_local_2020_12/\"\n",
    "PATHOUT=\"/home/xuhao/bags/swarm_local_2020_12/\"\n",
    "bags = [\"drone1-swarm_local_raw_2020-12-16-20-00-38.bag\",\n",
    "                \"drone2-swarm_local_raw_2020-12-16-20-00-34.bag\"]\n",
    "#t_offset = 20\n",
    "t_offset = 90\n",
    "t0 = 0\n",
    "for bag in bags:\n",
    "    for topic, msg, t in rosbag.Bag(PATH+bag).read_messages():\n",
    "        print(f\"Bag {bag} start at {t.to_sec()}\")\n",
    "        if t.to_sec() > t0:\n",
    "            t0 = t.to_sec()\n",
    "            break\n",
    "        else:\n",
    "            break\n",
    "            \n",
    "print(\"Will use\", t0, \"as start\")\n",
    "\n",
    "ros_t0 = None\n",
    "lps_t1 = None\n",
    "moveout_topics = {\n",
    "    \"/uwb_node/incoming_broadcast_data\"\n",
    "}\n",
    "\n",
    "\n",
    "for bag in bags:\n",
    "    print(f\"Converting {bag}\")\n",
    "    #cmd = f\"/opt/ros/melodic/bin/rosbag filter {PATH}{bag} {PATHOUT}filtered-{bag} 't.to_sec() >= {t}'\"\n",
    "    #print(os.popen(cmd).read())\n",
    "    output_bag = PATHOUT+\"filtered-\"+bag;\n",
    "    with rosbag.Bag(output_bag, 'w') as outbag:\n",
    "        for topic, msg, t in rosbag.Bag(PATH+bag).read_messages():\n",
    "            if topic in moveout_topics:\n",
    "                pass\n",
    "            else:\n",
    "                if t.to_sec() > t0 + t_offset:\n",
    "                    outbag.write(topic, msg, t)"
   ]
  },
  {
   "cell_type": "code",
   "execution_count": null,
   "metadata": {},
   "outputs": [],
   "source": [
    "ros_t0 = None\n",
    "lps_t1 = None\n",
    "for bag in bags:\n",
    "    output_bag = PATHOUT+\"filtered-\"+bag;\n",
    "    with rosbag.Bag(output_bag, 'w') as outbag:\n",
    "        for topic, msg, t in rosbag.Bag(PATH+bag).read_messages():\n",
    "            if t < t0:\n",
    "                continue\n",
    "            if bag ==  \"drone2-swarm_local_raw_2020-12-12.bag\":\n",
    "                if topic == \"/uwb_node/remote_nodes\":\n",
    "                    if ros_t0 is None:\n",
    "                        ros_t0 = msg.header.stamp.to_sec()\n",
    "                    if lps_t1 is None:\n",
    "                        lps_t1 = msg.sys_time\n",
    "                    lps_time = (msg.header.stamp.to_sec() - ros_t0)*1000 + lps_t1\n",
    "                    #print(msg.sys_time, lps_time)\n",
    "                    msg.sys_time = int(lps_time)\n",
    "            outbag.write(topic, msg, msg.header.stamp if msg._has_header else t)"
   ]
  },
  {
   "cell_type": "code",
   "execution_count": null,
   "metadata": {},
   "outputs": [],
   "source": []
  }
 ],
 "metadata": {
  "kernelspec": {
   "display_name": "Python 3",
   "language": "python",
   "name": "python3"
  },
  "language_info": {
   "codemirror_mode": {
    "name": "ipython",
    "version": 3
   },
   "file_extension": ".py",
   "mimetype": "text/x-python",
   "name": "python",
   "nbconvert_exporter": "python",
   "pygments_lexer": "ipython3",
   "version": "3.8.5"
  }
 },
 "nbformat": 4,
 "nbformat_minor": 4
}
