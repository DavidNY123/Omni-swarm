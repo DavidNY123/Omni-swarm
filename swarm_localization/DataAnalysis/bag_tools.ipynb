{
 "cells": [
  {
   "cell_type": "code",
   "execution_count": 4,
   "metadata": {},
   "outputs": [],
   "source": [
    "import rosbag\n",
    "input_bag =  \"/home/xuhao/bags/swarm_local_2020_12/swarm_local_2020-12-10-21-06-07.bag\"\n",
    "output_bag = \"/home/xuhao/bags/swarm_local_2020_12/swarm_local_2020-12-10-21-06-07_processed.bag\"\n",
    "moveout_topics = {\n",
    "    \"/swarm_drones/node_detected\",\n",
    "    \"/swarm_drones/swarm_drone_fused\",\n",
    "    \"/swarm_drones/swarm_drone_fused_relative\",\n",
    "    \"/swarm_drones/swarm_frame\",\n",
    "    \"/swarm_drones/swarm_frame_predict\"\n",
    "}\n",
    "#Moveout node_detected\n",
    "with rosbag.Bag(output_bag, 'w') as outbag:\n",
    "    for topic, msg, t in rosbag.Bag(input_bag).read_messages():\n",
    "        if topic in moveout_topics:\n",
    "            pass\n",
    "        else:\n",
    "            #outbag.write(topic, msg, msg.header.stamp if msg._has_header else t)\n",
    "            outbag.write(topic, msg, t)            "
   ]
  },
  {
   "cell_type": "code",
   "execution_count": null,
   "metadata": {},
   "outputs": [],
   "source": []
  }
 ],
 "metadata": {
  "kernelspec": {
   "display_name": "Python 3",
   "language": "python",
   "name": "python3"
  },
  "language_info": {
   "codemirror_mode": {
    "name": "ipython",
    "version": 3
   },
   "file_extension": ".py",
   "mimetype": "text/x-python",
   "name": "python",
   "nbconvert_exporter": "python",
   "pygments_lexer": "ipython3",
   "version": "3.8.5"
  }
 },
 "nbformat": 4,
 "nbformat_minor": 4
}
