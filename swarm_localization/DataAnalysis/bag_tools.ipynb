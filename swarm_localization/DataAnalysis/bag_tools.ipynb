{
 "cells": [
  {
   "cell_type": "code",
   "execution_count": 3,
   "metadata": {},
   "outputs": [],
   "source": [
    "import rosbag\n",
    "PATH=\"/home/xuhao/Dropbox/data/TRO2020-SwarmLocal/tro2020-bags/pre/\"\n",
    "PATHOUT=\"/home/xuhao/bags/swarm_local_2020_12/\"\n",
    "input_bag = PATH +\"drone1-swarm_local_2020-12-13-21-31-51.bag\"\n",
    "output_bag = PATHOUT + \"drone1-swarm_local_2020-12-13-21-31-51_processed.bag\"\n",
    "moveout_topics = {\n",
    "    \"/swarm_drones/node_detected\",\n",
    "    \"/swarm_drones/swarm_drone_fused\",\n",
    "    \"/swarm_drones/swarm_drone_fused_relative\",\n",
    "    \"/swarm_drones/swarm_frame\",\n",
    "    \"/swarm_drones/swarm_frame_predict\"\n",
    "}\n",
    "#Moveout node_detected\n",
    "with rosbag.Bag(output_bag, 'w') as outbag:\n",
    "    for topic, msg, t in rosbag.Bag(input_bag).read_messages():\n",
    "        if topic in moveout_topics:\n",
    "            pass\n",
    "        else:\n",
    "            #outbag.write(topic, msg, msg.header.stamp if msg._has_header else t)\n",
    "            outbag.write(topic, msg, t)            "
   ]
  },
  {
   "cell_type": "code",
   "execution_count": 1,
   "metadata": {},
   "outputs": [
    {
     "name": "stderr",
     "output_type": "stream",
     "text": [
      "Failed to load Python extension for LZ4 support. LZ4 compression will not be available.\n"
     ]
    },
    {
     "name": "stdout",
     "output_type": "stream",
     "text": [
      "Bag drone1.bag start at 1614001161.2306635\n",
      "Bag drone2.bag start at 1614001152.9480913\n",
      "Will use 1614001161.2306635 as start\n",
      "Dt between drones 0.0 bag drone1.bag 1613998502443779789 1613998502443779789\n",
      "Dt between drones 0.001021867 bag drone2.bag 1613998502444801656 1613998502443779789\n",
      "Converting drone1.bag\n",
      "Converting drone2.bag\n"
     ]
    }
   ],
   "source": [
    "import rosbag\n",
    "import os\n",
    "import rospy\n",
    "#PATH=\"/home/xuhao/bags/swarm_local_2020_12/\"\n",
    "PATH=\"/media/xuhao/DataStorage/tro2020-data/2021-2-22/trial1/\"\n",
    "PATHOUT=\"/home/xuhao/bags/swarm_local_2021-2-22/trial1/\"\n",
    "bags = [\"drone1.bag\",\n",
    "                \"drone2.bag\",\n",
    "                #\"drone5.bag\",\n",
    "       ]\n",
    "t_offset = 20\n",
    "#t_offset = 90\n",
    "\n",
    "t0 = 0\n",
    "\n",
    "for bag in bags:\n",
    "    for topic, msg, t in rosbag.Bag(PATH+bag).read_messages():\n",
    "        print(f\"Bag {bag} start at {t.to_sec()}\")\n",
    "        if t.to_sec() > t0:\n",
    "            t0 = t.to_sec()\n",
    "            break\n",
    "        else:\n",
    "            break\n",
    "print(\"Will use\", t0, \"as start\")\n",
    "\n",
    "ros_t0 = None\n",
    "lps_t1 = None\n",
    "moveout_topics = {\n",
    "    \"/uwb_node/incoming_broadcast_data\"\n",
    "}\n",
    "\n",
    "dts = {bags[0]:0}\n",
    "\n",
    "for topic, msg, t in rosbag.Bag(PATH+bags[0]).read_messages():\n",
    "    if t.to_sec() > t0 + t_offset and topic == \"/uwb_node/time_ref\":\n",
    "        _t0 = msg.header.stamp\n",
    "        _t1 = msg.time_ref\n",
    "        dt0 = _t0 - _t1\n",
    "        break\n",
    "\n",
    "for bag_name in bags:\n",
    "    for topic, msg, t in rosbag.Bag(PATH+bag_name).read_messages():\n",
    "        if  t.to_sec() > t0 + t_offset and topic == \"/uwb_node/time_ref\":\n",
    "            _t0 = msg.header.stamp\n",
    "            _t1 = msg.time_ref\n",
    "            dt1 = _t0 - _t1\n",
    "            break\n",
    "    dt = (dt1 - dt0)\n",
    "    print(f\"Dt between drones {dt.to_sec()} bag {bag_name}\", dt1, dt0)\n",
    "    dts[bag_name] = dt\n",
    "\n",
    "for bag in bags:\n",
    "    print(f\"Converting {bag}\")\n",
    "    #cmd = f\"/opt/ros/melodic/bin/rosbag filter {PATH}{bag} {PATHOUT}filtered-{bag} 't.to_sec() >= {t}'\"\n",
    "    #print(os.popen(cmd).read())\n",
    "    _dt = rospy.Time(0)\n",
    "    if bag != bags[0]:\n",
    "        _dt = dts[bag]\n",
    "    output_bag = PATHOUT+\"filtered-\"+bag;\n",
    "    with rosbag.Bag(output_bag, 'w') as outbag:\n",
    "        for topic, msg, t in rosbag.Bag(PATH+bag).read_messages():\n",
    "            if topic in moveout_topics:\n",
    "                pass\n",
    "            else:\n",
    "                t = msg.header.stamp - _dt if msg._has_header else t - _dt\n",
    "                if msg._has_header:\n",
    "                    msg.header.stamp = msg.header.stamp - _dt\n",
    "                if t.to_sec() > t0 + t_offset:\n",
    "                    outbag.write(topic, msg, t)"
   ]
  },
  {
   "cell_type": "code",
   "execution_count": null,
   "metadata": {},
   "outputs": [],
   "source": [
    "ros_t0 = None\n",
    "lps_t1 = None\n",
    "for bag in bags:\n",
    "    output_bag = PATHOUT+\"filtered-\"+bag;\n",
    "    with rosbag.Bag(output_bag, 'w') as outbag:\n",
    "        for topic, msg, t in rosbag.Bag(PATH+bag).read_messages():\n",
    "            if t < t0:\n",
    "                continue\n",
    "            if bag ==  \"drone2-swarm_local_raw_2020-12-12.bag\":\n",
    "                if topic == \"/uwb_node/remote_nodes\":\n",
    "                    if ros_t0 is None:\n",
    "                        ros_t0 = msg.header.stamp.to_sec()\n",
    "                    if lps_t1 is None:\n",
    "                        lps_t1 = msg.sys_time\n",
    "                    lps_time = (msg.header.stamp.to_sec() - ros_t0)*1000 + lps_t1\n",
    "                    #print(msg.sys_time, lps_time)\n",
    "                    msg.sys_time = int(lps_time)\n",
    "            outbag.write(topic, msg, msg.header.stamp if msg._has_header else t)"
   ]
  },
  {
   "cell_type": "code",
   "execution_count": null,
   "metadata": {},
   "outputs": [],
   "source": []
  }
 ],
 "metadata": {
  "kernelspec": {
   "display_name": "Python 3",
   "language": "python",
   "name": "python3"
  },
  "language_info": {
   "codemirror_mode": {
    "name": "ipython",
    "version": 3
   },
   "file_extension": ".py",
   "mimetype": "text/x-python",
   "name": "python",
   "nbconvert_exporter": "python",
   "pygments_lexer": "ipython3",
   "version": "3.8.5"
  }
 },
 "nbformat": 4,
 "nbformat_minor": 4
}
