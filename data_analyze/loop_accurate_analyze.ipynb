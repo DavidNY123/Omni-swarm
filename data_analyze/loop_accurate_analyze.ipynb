{
 "cells": [
  {
   "cell_type": "code",
   "execution_count": 1,
   "metadata": {},
   "outputs": [
    {
     "name": "stderr",
     "output_type": "stream",
     "text": [
      "Failed to load Python extension for LZ4 support. LZ4 compression will not be available.\n"
     ]
    }
   ],
   "source": [
    "%matplotlib widget\n",
    "%config InlineBackend.figure_format = 'retina'\n",
    "import rosbag\n",
    "import matplotlib.pyplot as plt\n",
    "import numpy as np\n",
    "from math import *\n",
    "from scipy.interpolate import interp1d\n",
    "from transformations import * \n",
    "plt.rc('figure', figsize=(10,5))\n",
    "#plt.rc('figure', figsize=(20,15))\n",
    "\n",
    "def quat2eulers(w, x, y ,z):\n",
    "    r = atan2(2 * (w * x + y * z),\n",
    "                    1 - 2 * (x * x + y * y))\n",
    "    p = asin(2 * (w * y - z * x))\n",
    "    y = atan2(2 * (w * z + x * y), 1 - 2 * (y * y + z * z))\n",
    "    return y, p, r\n",
    "\n",
    "def RMSE(predictions, targets):\n",
    "    return np.sqrt(np.mean((predictions-targets)**2))\n",
    "\n",
    "def read_pose_swarm_fused(bag, topic, _id):\n",
    "    pos = []\n",
    "    ypr = []\n",
    "    ts = []\n",
    "    print(f\"Read poses from topic {topic}\")\n",
    "    for topic, msg, t in bag.read_messages(topics=[topic]):\n",
    "        for i in range(len(msg.ids)):\n",
    "            _i = msg.ids[i]\n",
    "            if _i == _id:\n",
    "                ts.append(msg.header.stamp.to_sec())\n",
    "                pos.append([msg.local_drone_position[i].x, msg.local_drone_position[i].y, msg.local_drone_position[i].z])\n",
    "                ypr.append([msg.local_drone_yaw[i], 0, 0])\n",
    "    ret = {\n",
    "        \"t\": np.array(ts),\n",
    "        \"pos\": np.array(pos),\n",
    "       \"pos_func\": interp1d(ts, pos,axis=0),\n",
    "        \"ypr\": np.array(ypr),\n",
    "        \"ypr_func\": interp1d(ts, ypr,axis=0)\n",
    "    }\n",
    "    return ret\n",
    "    \n",
    "def read_pose(bag, topic):\n",
    "    pos = []\n",
    "    ypr = []\n",
    "    ts = []\n",
    "    print(f\"Read poses from topic {topic}\")\n",
    "    for topic, msg, t in bag.read_messages(topics=[topic]):\n",
    "        p = msg.pose.position\n",
    "        q = msg.pose.orientation\n",
    "        pos.append([p.x, p.y, p.z])\n",
    "        y, p, r = quat2eulers(q.w, q.x, q.y, q.z)\n",
    "        ypr.append([y, p, r])\n",
    "        ts.append(msg.header.stamp.to_sec())\n",
    "    ret = {\n",
    "        \"t\": np.array(ts),\n",
    "        \"pos\": np.array(pos),\n",
    "       \"pos_func\": interp1d(ts, pos,axis=0),\n",
    "        \"ypr\": np.array(ypr),\n",
    "        \"ypr_func\": interp1d(ts, ypr,axis=0)\n",
    "    }\n",
    "    return ret\n",
    "\n",
    "def read_loops(bag, topic=\"/swarm_loop/loop_connection\"):\n",
    "    loops = []\n",
    "    for topic, msg, t in bag.read_messages(topics=[topic]):\n",
    "        loop = {\n",
    "            \"ts_a\": msg.ts_a.to_sec(),\n",
    "            \"ts_b\": msg.ts_b.to_sec(),\n",
    "            \"id_a\":msg.id_a,\n",
    "            \"id_b\":msg.id_b,\n",
    "            \"dpos\":np.array([msg.dpos.x, msg.dpos.y, msg.dpos.z]),\n",
    "            \"dyaw\":msg.dyaw\n",
    "        }\n",
    "        loops.append(loop)\n",
    "    return loops\n",
    "    \n",
    "def bag_read(bagname, nodes = [1, 2], is_pc=False):\n",
    "    bag = rosbag.Bag(bagname)\n",
    "    poses = {}\n",
    "    loops = read_loops(bag, \"/swarm_loop/loop_connection\")\n",
    "    poses_fused = {}\n",
    "    for i in nodes:\n",
    "        poses[i] =  read_pose(bag, f\"/SwarmNode{i}/pose\")\n",
    "        if is_pc:\n",
    "            poses_fused[i] = read_pose_swarm_fused(bag, \"/swarm_drones/swarm_drone_fused_pc\", i)\n",
    "        else:\n",
    "            poses_fused[i] = read_pose_swarm_fused(bag, \"/swarm_drones/swarm_drone_fused\", i)\n",
    "    bag.close()\n",
    "    return poses, loops, poses_fused\n",
    "    \n"
   ]
  },
  {
   "cell_type": "code",
   "execution_count": 2,
   "metadata": {},
   "outputs": [
    {
     "name": "stdout",
     "output_type": "stream",
     "text": [
      "Read poses from topic /SwarmNode1/pose\n",
      "Read poses from topic /swarm_drones/swarm_drone_fused_pc\n",
      "Read poses from topic /SwarmNode2/pose\n",
      "Read poses from topic /swarm_drones/swarm_drone_fused_pc\n"
     ]
    }
   ],
   "source": [
    "nodes = [1, 2]\n",
    "#poses, loops , poses_fused =bag_read(\"data/swarm_local_2020-12-05-23-31-24-flyzone.bag\", nodes) ##This bag has out of flyzone part\n",
    "#poses, loops , poses_fused =bag_read(\"data/swarm_local_2020-12-05-23-31-24.bag\", nodes) ##This bag has out of flyzone part\n",
    "# poses, loops, poses_fused = bag_read(\"data/swarm_local_2020-12-07-17-09-41.bag\", nodes)\n",
    "#poses, loops, poses_fused = bag_read(\"data/swarm_local_2020-12-07-17-34-57.bag\", nodes, False)\n",
    "#poses, loops, poses_fused = bag_read(\"data/swarm_local_2020-12-07-17-34-57.bag\", nodes)\n",
    "\n",
    "poses, loops, poses_fused = bag_read(\"data/swarm_local_pc.bag\", nodes, True)\n"
   ]
  },
  {
   "cell_type": "code",
   "execution_count": 3,
   "metadata": {},
   "outputs": [
    {
     "data": {
      "application/vnd.jupyter.widget-view+json": {
       "model_id": "230ceddb9a5d45aabd854730cc98ac28",
       "version_major": 2,
       "version_minor": 0
      },
      "text/plain": [
       "Canvas(toolbar=Toolbar(toolitems=[('Home', 'Reset original view', 'home', 'home'), ('Back', 'Back to previous …"
      ]
     },
     "metadata": {},
     "output_type": "display_data"
    },
    {
     "data": {
      "application/vnd.jupyter.widget-view+json": {
       "model_id": "abc3b5233fc042cbb85e1b96c6bf3bbc",
       "version_major": 2,
       "version_minor": 0
      },
      "text/plain": [
       "Canvas(toolbar=Toolbar(toolitems=[('Home', 'Reset original view', 'home', 'home'), ('Back', 'Back to previous …"
      ]
     },
     "metadata": {},
     "output_type": "display_data"
    }
   ],
   "source": [
    "fig = plt.figure(\"Ground Truth3d\")\n",
    "ax = fig.add_subplot(111, projection='3d')\n",
    "ax = fig.gca(projection='3d')\n",
    "main_id = 1\n",
    "fused_offset = poses[main_id][\"pos\"][0] - poses_fused[main_id][\"pos\"][0]\n",
    "\n",
    "#Plot Ground Truth3d\n",
    "for i in nodes:\n",
    "    ax.plot(poses[i][\"pos\"][:,0], poses[i][\"pos\"][:,1],poses[i][\"pos\"][:,2], label=f\"Vicon Traj{i}\")\n",
    "    #ax.plot(poses_fused[i][\"pos\"][:,0] + fused_offset[0], poses_fused[i][\"pos\"][:,1] + fused_offset[1],poses_fused[i][\"pos\"][:,2] + fused_offset[2], label=f\"Fused Traj{i}\")\n",
    "\n",
    "#Plot Loops\n",
    "quivers = []\n",
    "for loop in loops:\n",
    "    posa_gt = poses[loop[\"id_a\"]][\"pos_func\"](loop[\"ts_a\"])\n",
    "    posb_gt = poses[loop[\"id_b\"]][\"pos_func\"](loop[\"ts_b\"])\n",
    "    quivers.append([posa_gt[0], posa_gt[1], posa_gt[2], posb_gt[0]-posa_gt[0], posb_gt[1]-posa_gt[1], posb_gt[2]-posa_gt[2]])\n",
    "quivers = np.array(quivers)\n",
    "c = np.arctan2(quivers[:,4], quivers[:,3])\n",
    "c = (c.ravel() - c.min()) / c.ptp()\n",
    "c = np.concatenate((c, np.repeat(c, 2)))\n",
    "c = plt.cm.hsv(c)\n",
    "ax.quiver(quivers[:,0], quivers[:,1], quivers[:,2], quivers[:,3], quivers[:,4], quivers[:,5], arrow_length_ratio=0.1, colors = c)\n",
    "\n",
    "plt.legend()\n",
    "plt.show()\n",
    "\n",
    "\n",
    "#Plot Fused Vs GT 3D\n",
    "fig = plt.figure(\"Fused Vs GT 3D\")\n",
    "for i in nodes:\n",
    "    ax = fig.add_subplot(120 + i, projection='3d')\n",
    "    ax = fig.gca(projection='3d')\n",
    "    ax.plot(poses[i][\"pos\"][:,0], poses[i][\"pos\"][:,1],poses[i][\"pos\"][:,2], label=f\"Vicon Traj{i}\")\n",
    "    ax.plot(poses_fused[i][\"pos\"][:,0] + fused_offset[0], poses_fused[i][\"pos\"][:,1] + fused_offset[1],poses_fused[i][\"pos\"][:,2] + fused_offset[2], label=f\"Fused Traj{i}\")\n",
    "    plt.legend()\n",
    "plt.show()"
   ]
  },
  {
   "cell_type": "code",
   "execution_count": 4,
   "metadata": {},
   "outputs": [
    {
     "data": {
      "application/vnd.jupyter.widget-view+json": {
       "model_id": "04fd99c475664883b6c0abd5f51c503b",
       "version_major": 2,
       "version_minor": 0
      },
      "text/plain": [
       "Canvas(toolbar=Toolbar(toolitems=[('Home', 'Reset original view', 'home', 'home'), ('Back', 'Back to previous …"
      ]
     },
     "metadata": {},
     "output_type": "display_data"
    },
    {
     "data": {
      "application/vnd.jupyter.widget-view+json": {
       "model_id": "e5d25b9cb649401185d8c3bbd4ce8ef4",
       "version_major": 2,
       "version_minor": 0
      },
      "text/plain": [
       "Canvas(toolbar=Toolbar(toolitems=[('Home', 'Reset original view', 'home', 'home'), ('Back', 'Back to previous …"
      ]
     },
     "metadata": {},
     "output_type": "display_data"
    },
    {
     "name": "stdout",
     "output_type": "stream",
     "text": [
      "RMSE 1 is 0.377,0.872,0.088\n",
      "RMSE 2 is 0.237,1.067,0.168\n"
     ]
    },
    {
     "data": {
      "application/vnd.jupyter.widget-view+json": {
       "model_id": "cb312fe3b5414c94a24233cb1b25e40f",
       "version_major": 2,
       "version_minor": 0
      },
      "text/plain": [
       "Canvas(toolbar=Toolbar(toolitems=[('Home', 'Reset original view', 'home', 'home'), ('Back', 'Back to previous …"
      ]
     },
     "metadata": {},
     "output_type": "display_data"
    }
   ],
   "source": [
    "#Plot Fused Vs GT 1D\n",
    "fig = plt.figure(\"Fused Vs GT 1D\")\n",
    "ax1, ax2, ax3 = fig.subplots(3, 1)\n",
    "\n",
    "for i in nodes:\n",
    "    t_ = poses_fused[i][\"t\"]\n",
    "    pos_gt =  poses[i][\"pos_func\"](poses_fused[i][\"t\"])\n",
    "    pos_fused = poses_fused[i][\"pos\"]\n",
    "    _i = str(i) \n",
    "    \n",
    "    ax1.plot(t_, pos_gt[:,0], label=\"$x_{gt}^\" + _i + \"$\")\n",
    "    ax1.plot(t_, pos_fused[:,0], label=\"$x_{fused}^\" + _i + \"$\")\n",
    "\n",
    "    ax2.plot(t_, pos_gt[:,1], label=\"$y_{gt}^\" + _i + \"$\")\n",
    "    ax2.plot(t_, pos_fused[:,1], label=\"$y_{fused}^\" + _i + \"$\")\n",
    "    \n",
    "    ax3.plot(t_, pos_gt[:,2], label=\"$z_{gt}^\" + _i + \"$\")\n",
    "    ax3.plot(t_, pos_fused[:,2], label=\"$z_{fused}^\" + _i + \"$\")\n",
    "\n",
    "ax1.legend()\n",
    "ax2.legend()\n",
    "ax3.legend()\n",
    "ax1.grid()\n",
    "ax2.grid()\n",
    "ax3.grid()\n",
    "plt.show()\n",
    "\n",
    "#Plot Fused Vs GT absolute error\n",
    "fig = plt.figure(\"Fused Absolute Error\")\n",
    "ax1, ax2, ax3 = fig.subplots(3, 1)\n",
    "for i in nodes:\n",
    "    t_ = poses_fused[i][\"t\"]\n",
    "    t0 =t_[0]\n",
    "    pos_gt =  poses[i][\"pos_func\"](poses_fused[i][\"t\"])\n",
    "    pos_fused = poses_fused[i][\"pos\"]\n",
    "    _i = str(i) \n",
    "    rmse_x = RMSE(pos_gt[:,0] , pos_fused[:,0])\n",
    "    rmse_y = RMSE(pos_gt[:,1] , pos_fused[:,1])\n",
    "    rmse_z = RMSE(pos_gt[:,2] , pos_fused[:,2])\n",
    "    label = f\"$errx_{i}$ RMSE{i}:{rmse_x:3.3f}\"\n",
    "    ax1.plot(t_, pos_gt[:,0]  - pos_fused[:,0], label=label)\n",
    "    \n",
    "    label = f\"$erry_{i}$ RMSE{i}:{rmse_y:3.3f}\"\n",
    "    ax2.plot(t_, pos_gt[:,1]  - pos_fused[:,1], label=label)\n",
    "    \n",
    "    label = f\"$erry_{i}$ RMSE{i}:{rmse_z:3.3f}\"\n",
    "    ax3.plot(t_,  pos_gt[:,1]  - pos_fused[:,1], label=label)\n",
    "    \n",
    "    print(f\"RMSE {i} is {rmse_x:3.3f},{rmse_y:3.3f},{rmse_z:3.3f}\")\n",
    "\n",
    "ax1.legend()\n",
    "ax2.legend()\n",
    "ax3.legend()\n",
    "ax1.grid()\n",
    "ax2.grid()\n",
    "ax3.grid()\n",
    "plt.show()\n",
    "\n",
    "plt.figure(\"Yaw\")\n",
    "for i in nodes:\n",
    "    t_ = poses_fused[i][\"t\"]\n",
    "    yaw_gt =  poses[i][\"ypr_func\"](poses_fused[i][\"t\"])\n",
    "    yaw_fused = poses_fused[i][\"ypr\"]\n",
    "    plt.plot(t_,  yaw_gt[:,0], label=f\"$\\psi_GT{i}$\")\n",
    "    plt.plot(t_,  yaw_fused[:,0], label=f\"$\\psi_Fused{i}$\")\n",
    "    "
   ]
  },
  {
   "cell_type": "code",
   "execution_count": 13,
   "metadata": {},
   "outputs": [
    {
     "name": "stdout",
     "output_type": "stream",
     "text": [
      "Total loops 78\n",
      "Error 4.176388161081254 {'ts_a': 1607333783.4896495, 'ts_b': 1607333784.014473, 'id_a': 2, 'id_b': 1, 'dpos': array([ 0.87191366,  3.40617199, -0.27344697]), 'dyaw': 0.1772447137852966}\n",
      "Error 1.2904963567958225 {'ts_a': 1607333820.9396555, 'ts_b': 1607333721.968874, 'id_a': 2, 'id_b': 1, 'dpos': array([ 0.01956518, -0.24168934, -0.87646124]), 'dyaw': 0.094772837973626}\n",
      "Error 1.955376236525415 {'ts_a': 1607333858.6896696, 'ts_b': 1607333721.968874, 'id_a': 2, 'id_b': 1, 'dpos': array([0., 0., 0.]), 'dyaw': 0.0}\n",
      "Error 2.0760786407161564 {'ts_a': 1607333880.8896627, 'ts_b': 1607333721.968874, 'id_a': 2, 'id_b': 1, 'dpos': array([0., 0., 0.]), 'dyaw': 0.0}\n"
     ]
    },
    {
     "data": {
      "application/vnd.jupyter.widget-view+json": {
       "model_id": "72d8d11f506b47d7ab4e81198103d279",
       "version_major": 2,
       "version_minor": 0
      },
      "text/plain": [
       "Canvas(toolbar=Toolbar(toolitems=[('Home', 'Reset original view', 'home', 'home'), ('Back', 'Back to previous …"
      ]
     },
     "metadata": {},
     "output_type": "display_data"
    },
    {
     "data": {
      "application/vnd.jupyter.widget-view+json": {
       "model_id": "d9cb7eab8bea4c5498cd5cf9022f8f41",
       "version_major": 2,
       "version_minor": 0
      },
      "text/plain": [
       "Canvas(toolbar=Toolbar(toolitems=[('Home', 'Reset original view', 'home', 'home'), ('Back', 'Back to previous …"
      ]
     },
     "metadata": {},
     "output_type": "display_data"
    },
    {
     "name": "stdout",
     "output_type": "stream",
     "text": [
      "Pos cov 0.08672705896599142 0.33853914305915234 0.006549974672347518\n",
      "Yaw cov 0.020961324630109177\n"
     ]
    }
   ],
   "source": [
    "_loops_data = []\n",
    "dpos_loops = []\n",
    "dpos_gts = []\n",
    "dpos_gt_norms= []\n",
    "dpos_loop_norms= []\n",
    "dpos_errs = []\n",
    "dpos_errs_norm = []\n",
    "posa_gts = []\n",
    "ts_a = []\n",
    "dyaws = []\n",
    "dyaw_gts = []\n",
    "yawa_gts = []\n",
    "yawb_gts = []\n",
    "dyaw_errs = []\n",
    "print(\"Total loops\", len(loops))\n",
    "for loop in loops:\n",
    "    posa_gt = poses[loop[\"id_a\"]][\"pos_func\"](loop[\"ts_a\"])\n",
    "    posb_gt = poses[loop[\"id_b\"]][\"pos_func\"](loop[\"ts_b\"])\n",
    "    yawa_gt = poses[loop[\"id_a\"]][\"ypr_func\"](loop[\"ts_a\"])[0]\n",
    "    yawb_gt = poses[loop[\"id_b\"]][\"ypr_func\"](loop[\"ts_b\"])[0]\n",
    "    dyaw_gt = yawb_gt - yawa_gt\n",
    "    dpos_gt = np.array(posb_gt - posa_gt)\n",
    "    dpos_gt = np.transpose([dpos_gt])\n",
    "    Re = rotation_matrix(-yawa_gt, [0, 0, 1])[0:3, 0:3]\n",
    "    dpos_gt = np.dot(Re, dpos_gt)\n",
    "    dpos_gt = dpos_gt.flatten()\n",
    "    dpos_loop = np.array(loop[\"dpos\"])\n",
    "    _loops_data.append({\n",
    "        \"dpos_loop\": dpos_loop,\n",
    "        \"dpos_gt\": dpos_gt,\n",
    "        \"dpos_err\": dpos_gt - dpos_loop\n",
    "        })\n",
    "    dpos_loops.append(dpos_loop)\n",
    "    dpos_gts.append(dpos_gt)\n",
    "    dpos_errs.append(dpos_gt - dpos_loop)    \n",
    "    dpos_gt_norms.append(np.linalg.norm(dpos_gt))\n",
    "    dpos_loop_norms.append(np.linalg.norm(dpos_loop))\n",
    "    dpos_errs_norm.append(np.linalg.norm(dpos_gt - dpos_loop))\n",
    "    posa_gts.append(posa_gt)\n",
    "    dyaws.append(loop[\"dyaw\"])\n",
    "    dyaw_gts.append(yawb_gt-yawa_gt)\n",
    "    ts_a.append(loop[\"ts_a\"])\n",
    "    yawa_gts.append(yawa_gt)\n",
    "    yawb_gts.append(yawb_gt)\n",
    "    dyaw_errs.append(yawb_gt-yawa_gt-loop[\"dyaw\"])\n",
    "    \n",
    "    if np.linalg.norm(dpos_gt - dpos_loop) > 1.0:\n",
    "        print(\"Error\", np.linalg.norm(dpos_gt - dpos_loop) , loop)\n",
    "    \n",
    "posa_gts = np.array(posa_gts)\n",
    "dpos_errs = np.array(dpos_errs)\n",
    "fig = plt.figure()\n",
    "\n",
    "plt.subplot(311)\n",
    "plt.plot(ts_a, dpos_errs_norm, '.', label=\"Loop Error\")\n",
    "plt.plot(ts_a, np.abs(dpos_errs[:,0]), '+', label=\"Loop Error X\")\n",
    "plt.plot(ts_a, np.abs(dpos_errs[:,1]), '+', label=\"Loop Error Y\")\n",
    "plt.plot(ts_a, dpos_errs[:,2], '+', label=\"Loop Error Z\")\n",
    "plt.title(\"Error Pos Loop vs Vicon\")\n",
    "plt.grid(which=\"both\")\n",
    "plt.legend()\n",
    "\n",
    "plt.subplot(312)\n",
    "plt.plot(ts_a, dyaws, '.', label=\"DYaw Gt\")\n",
    "plt.plot(ts_a, dyaw_gts, '+', label=\"DYaw Loop\")\n",
    "plt.plot(ts_a, yawa_gts, \"*\", label=\"Vicon Yaw A\")\n",
    "plt.plot(ts_a, np.abs(dyaw_errs), \"x\", label=\"DYaw Error\")\n",
    "\n",
    "#plt.plot(ts_a, yawb_gts, \"*\", label=\"Vicon Yaw B\")\n",
    "plt.title(\"Error Yaw Loop vs Vicon\")\n",
    "plt.grid(which=\"both\")\n",
    "plt.legend()\n",
    "\n",
    "\n",
    "plt.subplot(313)\n",
    "plt.plot(ts_a, posa_gts[:,0], '+', label=\"Vicon X\")\n",
    "plt.plot(ts_a, posa_gts[:,1], '+', label=\"Vicon Y\")\n",
    "plt.plot(ts_a, posa_gts[:,2], '+', label=\"Vicon Z\")\n",
    "plt.plot(poses[i][\"t\"], poses[i][\"pos\"][:,0], label=\"Vicon X\")\n",
    "plt.plot(poses[i][\"t\"], poses[i][\"pos\"][:,1], label=\"Vicon Y\")\n",
    "plt.plot(poses[i][\"t\"], poses[i][\"pos\"][:,2], label=\"Vicon Z\")\n",
    "\n",
    "plt.grid(which=\"both\")\n",
    "plt.legend()\n",
    "plt.show()\n",
    "\n",
    "plt.figure()\n",
    "plt.subplot(141)\n",
    "plt.hist(dpos_errs_norm, 5, density=True, facecolor='g', alpha=0.75)\n",
    "plt.subplot(142)\n",
    "plt.hist(dpos_errs[:,0], 5, density=True, facecolor='g', alpha=0.75)\n",
    "plt.subplot(143)\n",
    "plt.hist(dpos_errs[:,1], 5, density=True, facecolor='g', alpha=0.75)\n",
    "plt.subplot(144)\n",
    "plt.hist(dpos_errs[:,2], 5, density=True, facecolor='g', alpha=0.75)\n",
    "\n",
    "\n",
    "print(\"Pos cov\", np.cov(dpos_errs[:,0]), np.cov(dpos_errs[:,1]), np.cov(dpos_errs[:,2]) )\n",
    "print(\"Yaw cov\", np.cov(dyaw_errs))\n",
    "plt.show()\n",
    "\n",
    "\n",
    "# plt.figure()\n",
    "# plt.subplot(211)\n",
    "# plt.plot(dpos_gt_norms, dpos_errs_norm, 'o', label=\"GtDistance vs Error\")\n",
    "# plt.grid(which=\"both\")\n",
    "# plt.subplot(212)\n",
    "# plt.plot(dpos_loop_norms, dpos_errs_norm, 'o', label=\"LoopDistance vs Error\")\n",
    "# plt.grid(which=\"both\")\n",
    "# plt.legend()\n",
    "# plt.show()"
   ]
  },
  {
   "cell_type": "code",
   "execution_count": null,
   "metadata": {},
   "outputs": [],
   "source": []
  }
 ],
 "metadata": {
  "kernelspec": {
   "display_name": "Python 3",
   "language": "python",
   "name": "python3"
  },
  "language_info": {
   "codemirror_mode": {
    "name": "ipython",
    "version": 3
   },
   "file_extension": ".py",
   "mimetype": "text/x-python",
   "name": "python",
   "nbconvert_exporter": "python",
   "pygments_lexer": "ipython3",
   "version": "3.8.5"
  }
 },
 "nbformat": 4,
 "nbformat_minor": 4
}
