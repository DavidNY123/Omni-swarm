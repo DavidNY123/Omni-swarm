{
 "cells": [
  {
   "cell_type": "code",
   "execution_count": 52,
   "metadata": {},
   "outputs": [],
   "source": [
    "%matplotlib widget\n",
    "\n",
    "import rosbag\n",
    "import matplotlib.pyplot as plt\n",
    "import numpy as np\n",
    "from math import *\n",
    "from scipy.interpolate import interp1d\n",
    "from transformations import * \n",
    "plt.rc('figure', figsize=(10,8))\n",
    "#plt.rc('figure', figsize=(20,15))\n",
    "\n",
    "def quat2eulers(w, x, y ,z):\n",
    "    r = atan2(2 * (w * x + y * z),\n",
    "                    1 - 2 * (x * x + y * y))\n",
    "    p = asin(2 * (w * y - z * x))\n",
    "    y = atan2(2 * (w * z + x * y), 1 - 2 * (y * y + z * z))\n",
    "    return y, p, r\n",
    "\n",
    "def read_pose(bag, topic):\n",
    "    pos = []\n",
    "    ypr = []\n",
    "    ts = []\n",
    "    print(f\"Read poses from topic {topic}\")\n",
    "    for topic, msg, t in bag.read_messages(topics=[topic]):\n",
    "        p = msg.pose.position\n",
    "        q = msg.pose.orientation\n",
    "        pos.append([p.x, p.y, p.z])\n",
    "        y, p, r = quat2eulers(q.w, q.x, q.y, q.z)\n",
    "        ypr.append([y, p, r])\n",
    "        ts.append(msg.header.stamp.to_sec())\n",
    "    ret = {\n",
    "        \"t\": np.array(ts),\n",
    "        \"pos\": np.array(pos),\n",
    "       \"pos_func\": interp1d(ts, pos,axis=0),\n",
    "        \"ypr\": np.array(ypr),\n",
    "        \"ypr_func\": interp1d(ts, ypr,axis=0)\n",
    "    }\n",
    "    return ret\n",
    "\n",
    "def read_loops(bag, topic=\"/swarm_loop/loop_connection\"):\n",
    "    loops = []\n",
    "    for topic, msg, t in bag.read_messages(topics=[topic]):\n",
    "        loop = {\n",
    "            \"ts_a\": msg.ts_a.to_sec(),\n",
    "            \"ts_b\": msg.ts_b.to_sec(),\n",
    "            \"id_a\":msg.id_a,\n",
    "            \"id_b\":msg.id_b,\n",
    "            \"dpos\":np.array([msg.dpos.x, msg.dpos.y, msg.dpos.z]),\n",
    "            \"dyaw\":msg.dyaw\n",
    "        }\n",
    "        loops.append(loop)\n",
    "    return loops\n",
    "    \n",
    "def bag_read(bagname, nodes = [1, 2]):\n",
    "    bag = rosbag.Bag(bagname)\n",
    "    poses = {}\n",
    "    loops = read_loops(bag, \"/swarm_loop/loop_connection\")\n",
    "    for i in nodes:\n",
    "        poses[i] =  read_pose(bag, f\"/SwarmNode{i}/pose\")\n",
    "    bag.close()\n",
    "    return poses, loops\n",
    "    \n"
   ]
  },
  {
   "cell_type": "code",
   "execution_count": 56,
   "metadata": {},
   "outputs": [
    {
     "name": "stdout",
     "output_type": "stream",
     "text": [
      "Read poses from topic /SwarmNode1/pose\n",
      "Read poses from topic /SwarmNode2/pose\n"
     ]
    }
   ],
   "source": [
    "nodes = [1, 2]\n",
    "#poses, loops =bag_read(\"data/swarm_local_2020-12-05-23-31-24-flyzone.bag\", nodes) ##This bag has out of flyzone part\n",
    "poses, loops = bag_read(\"data/swarm_local_2020-12-07-17-09-41.bag\", nodes)\n",
    "#poses, loops = bag_read(\"data/swarm_local_2020-12-07-17-34-57.bag\", nodes)\n"
   ]
  },
  {
   "cell_type": "code",
   "execution_count": 57,
   "metadata": {},
   "outputs": [
    {
     "data": {
      "application/vnd.jupyter.widget-view+json": {
       "model_id": "e48ec57ada0b45f0ba88532e43b13af3",
       "version_major": 2,
       "version_minor": 0
      },
      "text/plain": [
       "Canvas(toolbar=Toolbar(toolitems=[('Home', 'Reset original view', 'home', 'home'), ('Back', 'Back to previous …"
      ]
     },
     "metadata": {},
     "output_type": "display_data"
    },
    {
     "data": {
      "application/vnd.jupyter.widget-view+json": {
       "model_id": "aff55fb56cde486182ce7d92c3a76bc9",
       "version_major": 2,
       "version_minor": 0
      },
      "text/plain": [
       "Canvas(toolbar=Toolbar(toolitems=[('Home', 'Reset original view', 'home', 'home'), ('Back', 'Back to previous …"
      ]
     },
     "metadata": {},
     "output_type": "display_data"
    }
   ],
   "source": [
    "fig = plt.figure()\n",
    "ax = fig.add_subplot(111, projection='3d')\n",
    "ax = fig.gca(projection='3d')\n",
    "for i in nodes:\n",
    "    ax.plot(poses[i][\"pos\"][:,0], poses[i][\"pos\"][:,1],poses[i][\"pos\"][:,2], label=f\"ViconPOS{i}\")\n",
    "\n",
    "quivers = []\n",
    "for loop in loops:\n",
    "    posa_gt = poses[loop[\"id_a\"]][\"pos_func\"](loop[\"ts_a\"])\n",
    "    posb_gt = poses[loop[\"id_b\"]][\"pos_func\"](loop[\"ts_b\"])\n",
    "    quivers.append([posa_gt[0], posa_gt[1], posa_gt[2], posb_gt[0]-posa_gt[0], posb_gt[1]-posa_gt[1], posb_gt[2]-posa_gt[2]])\n",
    "quivers = np.array(quivers)\n",
    "c = np.arctan2(quivers[:,4], quivers[:,3])\n",
    "c = (c.ravel() - c.min()) / c.ptp()\n",
    "c = np.concatenate((c, np.repeat(c, 2)))\n",
    "c = plt.cm.hsv(c)\n",
    "ax.quiver(quivers[:,0], quivers[:,1], quivers[:,2], quivers[:,3], quivers[:,4], quivers[:,5], arrow_length_ratio=0.1, colors = c)\n",
    "\n",
    "plt.legend()\n",
    "plt.show()\n",
    "\n",
    "plt.figure()\n",
    "for i in nodes:\n",
    "    plt.plot(poses[i][\"ypr\"][:,0], label=f\"ViconYaw{i}\")\n",
    "    plt.plot(poses[i][\"ypr\"][:,0], label=f\"ViconPitch{i}\")\n",
    "    plt.plot(poses[i][\"ypr\"][:,0], label=f\"ViconRoll{i}\")\n",
    "    plt.legend()\n",
    "    plt.grid()\n",
    "    plt.show()\n"
   ]
  },
  {
   "cell_type": "code",
   "execution_count": 60,
   "metadata": {},
   "outputs": [
    {
     "name": "stdout",
     "output_type": "stream",
     "text": [
      "Total loops 45\n"
     ]
    },
    {
     "data": {
      "application/vnd.jupyter.widget-view+json": {
       "model_id": "3ce566b3f194488a9949f80343dd932b",
       "version_major": 2,
       "version_minor": 0
      },
      "text/plain": [
       "Canvas(toolbar=Toolbar(toolitems=[('Home', 'Reset original view', 'home', 'home'), ('Back', 'Back to previous …"
      ]
     },
     "metadata": {},
     "output_type": "display_data"
    },
    {
     "data": {
      "application/vnd.jupyter.widget-view+json": {
       "model_id": "03a86239fb9b4cac94eb5438f379b70c",
       "version_major": 2,
       "version_minor": 0
      },
      "text/plain": [
       "Canvas(toolbar=Toolbar(toolitems=[('Home', 'Reset original view', 'home', 'home'), ('Back', 'Back to previous …"
      ]
     },
     "metadata": {},
     "output_type": "display_data"
    },
    {
     "name": "stdout",
     "output_type": "stream",
     "text": [
      "Pos cov 0.1352192034497826 0.739531577070131 0.023797876218099923\n",
      "Yaw cov 0.05572986261394686\n"
     ]
    }
   ],
   "source": [
    "_loops_data = []\n",
    "dpos_loops = []\n",
    "dpos_gts = []\n",
    "dpos_gt_norms= []\n",
    "dpos_loop_norms= []\n",
    "dpos_errs = []\n",
    "dpos_errs_norm = []\n",
    "posa_gts = []\n",
    "ts_a = []\n",
    "dyaws = []\n",
    "dyaw_gts = []\n",
    "yawa_gts = []\n",
    "yawb_gts = []\n",
    "dyaw_errs = []\n",
    "print(\"Total loops\", len(loops))\n",
    "for loop in loops:\n",
    "    posa_gt = poses[loop[\"id_a\"]][\"pos_func\"](loop[\"ts_a\"])\n",
    "    posb_gt = poses[loop[\"id_b\"]][\"pos_func\"](loop[\"ts_b\"])\n",
    "    yawa_gt = poses[loop[\"id_a\"]][\"ypr_func\"](loop[\"ts_a\"])[0]\n",
    "    yawb_gt = poses[loop[\"id_b\"]][\"ypr_func\"](loop[\"ts_b\"])[0]\n",
    "    dyaw_gt = yawb_gt - yawa_gt\n",
    "    dpos_gt = np.array(posb_gt - posa_gt)\n",
    "    dpos_gt = np.transpose([dpos_gt])\n",
    "    Re = rotation_matrix(-yawa_gt, [0, 0, 1])[0:3, 0:3]\n",
    "    dpos_gt = np.dot(Re, dpos_gt)\n",
    "    dpos_gt = dpos_gt.flatten()\n",
    "    dpos_loop = np.array(loop[\"dpos\"])\n",
    "    _loops_data.append({\n",
    "        \"dpos_loop\": dpos_loop,\n",
    "        \"dpos_gt\": dpos_gt,\n",
    "        \"dpos_err\": dpos_gt - dpos_loop\n",
    "        })\n",
    "    dpos_loops.append(dpos_loop)\n",
    "    dpos_gts.append(dpos_gt)\n",
    "    dpos_errs.append(dpos_gt - dpos_loop)    \n",
    "    dpos_gt_norms.append(np.linalg.norm(dpos_gt))\n",
    "    dpos_loop_norms.append(np.linalg.norm(dpos_loop))\n",
    "    dpos_errs_norm.append(np.linalg.norm(dpos_gt - dpos_loop))\n",
    "    posa_gts.append(posa_gt)\n",
    "    dyaws.append(loop[\"dyaw\"])\n",
    "    dyaw_gts.append(yawb_gt-yawa_gt)\n",
    "    ts_a.append(loop[\"ts_a\"])\n",
    "    yawa_gts.append(yawa_gt)\n",
    "    yawb_gts.append(yawb_gt)\n",
    "    dyaw_errs.append(yawb_gt-yawa_gt-loop[\"dyaw\"])\n",
    "    \n",
    "posa_gts = np.array(posa_gts)\n",
    "dpos_errs = np.array(dpos_errs)\n",
    "fig = plt.figure()\n",
    "\n",
    "plt.subplot(311)\n",
    "#plt.plot(ts_a, dpos_errs_norm, '.', label=\"Loop Error\")\n",
    "#plt.plot(ts_a, np.abs(dpos_errs[:,0]), '+', label=\"Loop Error X\")\n",
    "#plt.plot(ts_a, np.abs(dpos_errs[:,1]), '+', label=\"Loop Error Y\")\n",
    "plt.plot(ts_a, dpos_errs[:,2], '+', label=\"Loop Error Z\")\n",
    "plt.title(\"Error Pos Loop vs Vicon\")\n",
    "plt.grid(which=\"both\")\n",
    "plt.legend()\n",
    "\n",
    "plt.subplot(312)\n",
    "plt.plot(ts_a, dyaws, '.', label=\"DYaw Gt\")\n",
    "plt.plot(ts_a, dyaw_gts, '+', label=\"DYaw Loop\")\n",
    "plt.plot(ts_a, yawa_gts, \"*\", label=\"Vicon Yaw A\")\n",
    "plt.plot(ts_a, np.abs(dyaw_errs), \"x\", label=\"DYaw Error\")\n",
    "\n",
    "#plt.plot(ts_a, yawb_gts, \"*\", label=\"Vicon Yaw B\")\n",
    "plt.title(\"Error Yaw Loop vs Vicon\")\n",
    "plt.grid(which=\"both\")\n",
    "plt.legend()\n",
    "\n",
    "\n",
    "plt.subplot(313)\n",
    "plt.plot(ts_a, posa_gts[:,0], '+', label=\"Vicon X\")\n",
    "plt.plot(ts_a, posa_gts[:,1], '+', label=\"Vicon Y\")\n",
    "plt.plot(ts_a, posa_gts[:,2], '+', label=\"Vicon Z\")\n",
    "plt.plot(poses[i][\"t\"], poses[i][\"pos\"][:,0], label=\"Vicon X\")\n",
    "plt.plot(poses[i][\"t\"], poses[i][\"pos\"][:,1], label=\"Vicon Y\")\n",
    "plt.plot(poses[i][\"t\"], poses[i][\"pos\"][:,2], label=\"Vicon Z\")\n",
    "\n",
    "plt.grid(which=\"both\")\n",
    "plt.legend()\n",
    "plt.show()\n",
    "\n",
    "plt.figure()\n",
    "plt.subplot(141)\n",
    "plt.hist(dpos_errs_norm, 5, density=True, facecolor='g', alpha=0.75)\n",
    "plt.subplot(142)\n",
    "plt.hist(dpos_errs[:,0], 5, density=True, facecolor='g', alpha=0.75)\n",
    "plt.subplot(143)\n",
    "plt.hist(dpos_errs[:,1], 5, density=True, facecolor='g', alpha=0.75)\n",
    "plt.subplot(144)\n",
    "plt.hist(dpos_errs[:,2], 5, density=True, facecolor='g', alpha=0.75)\n",
    "\n",
    "\n",
    "print(\"Pos cov\", np.cov(dpos_errs[:,0]), np.cov(dpos_errs[:,1]), np.cov(dpos_errs[:,2]) )\n",
    "print(\"Yaw cov\", np.cov(dyaw_errs))\n",
    "plt.show()\n",
    "\n",
    "\n",
    "# plt.figure()\n",
    "# plt.subplot(211)\n",
    "# plt.plot(dpos_gt_norms, dpos_errs_norm, 'o', label=\"GtDistance vs Error\")\n",
    "# plt.grid(which=\"both\")\n",
    "# plt.subplot(212)\n",
    "# plt.plot(dpos_loop_norms, dpos_errs_norm, 'o', label=\"LoopDistance vs Error\")\n",
    "# plt.grid(which=\"both\")\n",
    "# plt.legend()\n",
    "# plt.show()"
   ]
  },
  {
   "cell_type": "code",
   "execution_count": null,
   "metadata": {},
   "outputs": [],
   "source": []
  }
 ],
 "metadata": {
  "kernelspec": {
   "display_name": "Python 3",
   "language": "python",
   "name": "python3"
  },
  "language_info": {
   "codemirror_mode": {
    "name": "ipython",
    "version": 3
   },
   "file_extension": ".py",
   "mimetype": "text/x-python",
   "name": "python",
   "nbconvert_exporter": "python",
   "pygments_lexer": "ipython3",
   "version": "3.8.5"
  }
 },
 "nbformat": 4,
 "nbformat_minor": 4
}
